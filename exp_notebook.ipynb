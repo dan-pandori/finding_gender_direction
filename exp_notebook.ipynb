{
  "cells": [
    {
      "cell_type": "markdown",
      "metadata": {
        "id": "9Hmxa7JqTbcu"
      },
      "source": [
        "# GPT2-xl installation\n",
        "\n"
      ]
    },
    {
      "attachments": {},
      "cell_type": "markdown",
      "metadata": {},
      "source": [
        "Import GPT2-xl with the available RAM.\n",
        "Setup and import all packages."
      ]
    },
    {
      "cell_type": "code",
      "execution_count": 1,
      "metadata": {},
      "outputs": [],
      "source": [
        "import sys\n",
        "in_colab = 'google.colab' in sys.modules"
      ]
    },
    {
      "cell_type": "code",
      "execution_count": 2,
      "metadata": {},
      "outputs": [],
      "source": [
        "#import the useful libraries if you are working on google colab\n",
        "if in_colab:\n",
        "    !git clone https://github.com/leodana2000/finding_gender_direction.git\n",
        "    !pip install transformers\n",
        "    !pip install accelerate"
      ]
    },
    {
      "cell_type": "code",
      "execution_count": 3,
      "metadata": {
        "colab": {
          "base_uri": "https://localhost:8080/"
        },
        "id": "xaN_GiUSr--I",
        "outputId": "9a4888cb-e1f6-48ce-b5d2-cc90c5c0ecdd"
      },
      "outputs": [
        {
          "name": "stderr",
          "output_type": "stream",
          "text": [
            "/Users/leodana/anaconda3/envs/leo_env/lib/python3.11/site-packages/tqdm/auto.py:21: TqdmWarning: IProgress not found. Please update jupyter and ipywidgets. See https://ipywidgets.readthedocs.io/en/stable/user_install.html\n",
            "  from .autonotebook import tqdm as notebook_tqdm\n"
          ]
        }
      ],
      "source": [
        "if in_colab:\n",
        "    sys.path.append(\"/content/finding_gender_direction\")\n",
        "else:\n",
        "    PATH = \"/finding_gender_direction/\"\n",
        "    sys.path.append(PATH)\n",
        "\n",
        "from hyperplane_computation import utils\n",
        "from hyperplane_computation import inference_time_modification\n",
        "from hyperplane_computation import store_test_hyperplane\n",
        "from Data.type import DataStorage\n",
        "\n",
        "import pandas as pd\n",
        "import torch\n",
        "import numpy as np\n",
        "import matplotlib.pyplot as plt\n",
        "from transformers import GPT2TokenizerFast, GPT2LMHeadModel"
      ]
    },
    {
      "cell_type": "code",
      "execution_count": 4,
      "metadata": {
        "colab": {
          "base_uri": "https://localhost:8080/",
          "referenced_widgets": [
            "84d38cf0f5864d81949a1b0bb4c29852",
            "5b69e1cfd69d4bf9879f93d029535ffa",
            "ca9b0af43f134e74b8b13cc71243c094",
            "9a205974ff5342feb1dcda14cb67b030",
            "4897d4f1464a436ea0622c15cc2779f7",
            "9e49c2d1a96443aeb0c4b8b05cac60df",
            "7a894a2a3a7249f1b699e9893f7df30e",
            "336a958de37147689d02561f480dd158",
            "fefdf1f3750b4ca0b43df5c92f8748ee",
            "ed88f1a665d94eb485a2407ebf1b297e",
            "2c0ef963af74415cb5028d72fae8d803",
            "10f394ace64d4f0087b4eb17e0dc91e2",
            "6f082ee96d16462aa67d0d2b7a33d9b6",
            "05d25e7bcc994187ba615d9e329f2731",
            "7cf10ab247bc4785ae8d9e6341963434",
            "44c5ff2f8f5a479ebf2037af411940ea",
            "833da11eb47c415f881a81bde11e3c41",
            "1e36b2bcb4034a3197019e4cd9893f50",
            "cd9322cc3c15412caa898301334ece0f",
            "18a92033b9134e0e9bbbaff43a1f87db",
            "7a2df7f02a74443899586869a2440f32",
            "1f67df86bbc046f9b54ce8a0ab9515cb",
            "5e99bed821ce43b5a7d918d87e9ddce5",
            "4b8b76d208754220a5f4674497fdda15",
            "17efac1b96f44f81a864327bb7304124",
            "7be50e707c234a078bc45ffbd5c7f345",
            "bb2c0b70154c4e3ead71023d5736f3cb",
            "4bfb3b4516654cf099d4b80a40c31984",
            "4f7cc02f6a1448c885ec2f91d27c280a",
            "9f8a9c11dd02466d901d507ba3d4f10b",
            "96f5601de26f48478dc27ef48ed10897",
            "a2a52db6b31f4c2daf3eca334156b193",
            "8ce9ea927ed845f2abe98adc7d905ae8",
            "8ef6829cb6ee428db10eb0d2badf246d",
            "3d36ad94ee8f42608efb429c290c4272",
            "9686b9c9c6d446f2a3302fbf7b3b0b36",
            "41f116e238294f528267c57e47b5be46",
            "b4f03871fe894feb938100932048bce8",
            "956d06a745ed48b5baec1f2d0173e16e",
            "6ab39ddd631542af82c83c28a67ac53b",
            "0d350269951c4b99ae8da07446156657",
            "bc305590940d417fa92e73f2df8662ac",
            "3f4ebf8f4ec64eb8ab225bcdcf5d9ccc",
            "8b7c5028deb5426cb78ed7606321d2e8",
            "11382ec59dd24cc18c13d49866f99bfe",
            "b1cdd30e76664938bb6c6b4081f224ad",
            "9146dd9bd15445cf8f1e6fb601701629",
            "d47d8364c093431b8c9a6404303d02ff",
            "3f66aef548ee4e93b6a7dbafbdb457c5",
            "01f88277413b4d4ba9d97f2095b11ce3",
            "38340a15f7ef4e9f8bac4790edeb18f7",
            "7a0801250d2a4ea0ab58f7709bae33d3",
            "d1d11bdae8da42f2be20b1103d1f5c22",
            "1f59ff836613455daadbc23902e6e93b",
            "c5f77f47a5474afea8c8df73950f8178",
            "7a08acc07efc40e29bbe6bc67c86c5e7",
            "7cbcd3458a21423db5a2e14c8769d56f",
            "24072924a845414eb1ca7392f8436c59",
            "ea058c731697490a9ede32fcd66ec898",
            "22a045b8023c473fa97f4f712e3745a5",
            "2184e0f5c4f74505a3e5b6f3b8e8fee6",
            "a8bbd9e22b804a8c8b7e75acca08ad74",
            "62ae57d3470d49f48c5d9bc34d66f2e3",
            "193fecc1467841c29b88c2e84121957c",
            "a611de90ab7142c8a7c8e14f3d96e115",
            "88e0e6dac4524dc89809536a7cc7449b"
          ]
        },
        "id": "OIvcpZarXjrc",
        "outputId": "4d511913-efab-4941-c3a7-9e8372ec5d20"
      },
      "outputs": [
        {
          "data": {
            "text/plain": [
              "GPT2LMHeadModel(\n",
              "  (transformer): GPT2Model(\n",
              "    (wte): Embedding(50257, 768)\n",
              "    (wpe): Embedding(1024, 768)\n",
              "    (drop): Dropout(p=0.1, inplace=False)\n",
              "    (h): ModuleList(\n",
              "      (0-11): 12 x GPT2Block(\n",
              "        (ln_1): LayerNorm((768,), eps=1e-05, elementwise_affine=True)\n",
              "        (attn): GPT2Attention(\n",
              "          (c_attn): Conv1D()\n",
              "          (c_proj): Conv1D()\n",
              "          (attn_dropout): Dropout(p=0.1, inplace=False)\n",
              "          (resid_dropout): Dropout(p=0.1, inplace=False)\n",
              "        )\n",
              "        (ln_2): LayerNorm((768,), eps=1e-05, elementwise_affine=True)\n",
              "        (mlp): GPT2MLP(\n",
              "          (c_fc): Conv1D()\n",
              "          (c_proj): Conv1D()\n",
              "          (act): NewGELUActivation()\n",
              "          (dropout): Dropout(p=0.1, inplace=False)\n",
              "        )\n",
              "      )\n",
              "    )\n",
              "    (ln_f): LayerNorm((768,), eps=1e-05, elementwise_affine=True)\n",
              "  )\n",
              "  (lm_head): Linear(in_features=768, out_features=50257, bias=False)\n",
              ")"
            ]
          },
          "execution_count": 4,
          "metadata": {},
          "output_type": "execute_result"
        }
      ],
      "source": [
        "#when debugging, use gpt2 to be faster\n",
        "debugging = True\n",
        "torch.set_grad_enabled(False)\n",
        "\n",
        "if debugging:\n",
        "  tokenizer = GPT2TokenizerFast.from_pretrained('gpt2')\n",
        "  model = GPT2LMHeadModel.from_pretrained('gpt2')\n",
        "else:\n",
        "  tokenizer = GPT2TokenizerFast.from_pretrained('gpt2-xl')\n",
        "  model = GPT2LMHeadModel.from_pretrained('gpt2-xl', device_map=\"auto\", offload_folder=\"offload\", offload_state_dict=True)\n",
        "\n",
        "model.eval()"
      ]
    },
    {
      "cell_type": "code",
      "execution_count": 5,
      "metadata": {
        "id": "cd3z40IMPG_R"
      },
      "outputs": [],
      "source": [
        "if torch.cuda.is_available():\n",
        "    device = torch.device('cuda')\n",
        "else:\n",
        "    device = torch.device('cpu')\n",
        "\n",
        "model.to(device)\n",
        "tokenizer.pad_token = tokenizer.eos_token\n",
        "\n",
        "dict = {\n",
        "    'device': device,\n",
        "    'model': model,\n",
        "    'tokenizer': tokenizer,\n",
        "}"
      ]
    },
    {
      "cell_type": "markdown",
      "metadata": {},
      "source": [
        "# Load Data"
      ]
    },
    {
      "cell_type": "code",
      "execution_count": 6,
      "metadata": {},
      "outputs": [],
      "source": [
        "batch_size = 1024\n",
        "rand_seed = 42\n",
        "train_test_ratio = 0.85\n",
        "\n",
        "if in_colab:\n",
        "    D = pd.read_csv(\"finding_gender_direction/Data/Train_Data.csv\")\n",
        "else:\n",
        "    D = pd.read_csv(\"Data/Train_Data.csv\")\n",
        "\n",
        "dataset = DataStorage(\n",
        "    D,\n",
        "    batch_size=batch_size,\n",
        "    rand_seed=rand_seed,\n",
        "    train_test_ratio=train_test_ratio,\n",
        ")"
      ]
    },
    {
      "cell_type": "code",
      "execution_count": 7,
      "metadata": {},
      "outputs": [],
      "source": [
        "if in_colab:\n",
        "    Test = pd.read_csv(\"finding_gender_direction/Data/Test_Data.csv\")\n",
        "else:\n",
        "    Test = pd.read_csv(\"Data/Test_Data.csv\")\n",
        "\n",
        "example_prompts_A = [Test[Test['data_num'] == 'a']['question'].values.tolist()]\n",
        "example_prompts_B = [Test[Test['data_num'] == 'b']['question'].values.tolist()]\n",
        "example_prompts_C = Test[Test['data_num'] == 'c']['question'].values.tolist()\n",
        "example_prompts_D = Test[Test['data_num'] == 'd']['question'].values.tolist()\n",
        "\n",
        "target_tokens_A = [tokenizer(Test[Test['data_num'] == 'a']['target'].values.tolist()).input_ids]\n",
        "target_tokens_B = [tokenizer(Test[Test['data_num'] == 'b']['target'].values.tolist()).input_ids]\n",
        "target_tokens_C = tokenizer(Test[Test['data_num'] == 'c']['target'].values.tolist()).input_ids\n",
        "target_tokens_D = tokenizer(Test[Test['data_num'] == 'd']['target'].values.tolist()).input_ids"
      ]
    },
    {
      "cell_type": "code",
      "execution_count": 8,
      "metadata": {},
      "outputs": [],
      "source": [
        "#list of tokens counted as \"good\" answers\n",
        "text_lists = [[\"he\", \" he\", \"He\", \" He\",\n",
        "                 \"him\", \" him\", \"Him\", \" Him\",\n",
        "                 \"his\", \" his\", \"His\", \" His\",\n",
        "                 \"male\", \" male\", \"Male\", \" Male\",\n",
        "                 \"son\", \" son\", \"Son\", \" Son\",\n",
        "                 \"father\", \" father\", \"Father\", \" Father\",\n",
        "                 \"boy\", \" boy\", \"Boy\", \" Boy\",\n",
        "                 ],\n",
        "              [\"she\", \" she\", \"She\", \" She\",\n",
        "               \"her\", \" her\", \"Her\", \" Her\",\n",
        "               \"female\", \" female\", \"Female\", \" Female\",\n",
        "               \"daugther\", \" daugther\", \"Daugther\", \" Daugther\",\n",
        "               \"mother\", \" mother\", \"Mother\", \" Mother\",\n",
        "               \"girl\", \" girl\", \"girl\", \" girl\",]]\n",
        "token_lists = [tokenizer(text_list).input_ids for text_list in text_lists]\n",
        "token_lists = [[[token[0]] for token in token_lists[0]], [[token[0]] for token in token_lists[1]]]"
      ]
    },
    {
      "cell_type": "markdown",
      "metadata": {
        "id": "i7lqLX6ak2FE"
      },
      "source": [
        "# Learning and Testing Hyperplane"
      ]
    },
    {
      "cell_type": "markdown",
      "metadata": {},
      "source": [
        "We learn the gender direction using the difference in mean, using a diff-mean quantile method, and using Logistic Regression. \n",
        "\n",
        "We can learn on the full dataset, or only on a subset: for the full, use $Data$, otherwise $Train$. For the second dataset, we want to use $Train_2$ because $Test_2 = Data_2-Train_2$. "
      ]
    },
    {
      "cell_type": "code",
      "execution_count": null,
      "metadata": {
        "colab": {
          "base_uri": "https://localhost:8080/"
        },
        "id": "CD2iAA7qD1JP",
        "outputId": "f47b4321-82b4-4b6d-aea5-214b5a245ce3"
      },
      "outputs": [],
      "source": [
        "Learn = dataset.get_ex('learn', multi_dim=False)\n",
        "\n",
        "# Learn the estimators on the attention\n",
        "eraser_mean, eraser_quantile, eraser_probe = store_test_hyperplane.storing_hyperplanes(Learn, post_layer_norm=True, learn_probe=True, **dict)\n",
        "\n",
        "Train = dataset.get_ex('train', multi_dim=False)\n",
        "\n",
        "# Learn the estimators on the attention\n",
        "eraser_mean_train, eraser_quantile_train, eraser_probe_train = store_test_hyperplane.storing_hyperplanes(Train, post_layer_norm=True, learn_probe=True, **dict)\n"
      ]
    },
    {
      "cell_type": "markdown",
      "metadata": {},
      "source": [
        "We can now measure, at each layer, the accuracy of our hyperplane! "
      ]
    },
    {
      "cell_type": "code",
      "execution_count": null,
      "metadata": {
        "colab": {
          "base_uri": "https://localhost:8080/"
        },
        "id": "xceRSHsVz2YZ",
        "outputId": "234102e1-8224-4f95-e1f4-e1fdfc502fc2"
      },
      "outputs": [
        {
          "name": "stderr",
          "output_type": "stream",
          "text": [
            "100%|██████████| 12/12 [00:27<00:00,  2.26s/it]\n",
            "100%|██████████| 12/12 [00:04<00:00,  2.60it/s]\n"
          ]
        }
      ],
      "source": [
        "metric_q = utils.probe_eval(eraser_quantile, **dict)\n",
        "metric_m = utils.probe_eval(eraser_mean, **dict)\n",
        "metric_p = utils.probe_eval(eraser_probe, **dict)\n",
        "\n",
        "acc_data_1 = store_test_hyperplane.hyperplane_acc(Learn, [metric_q, metric_m, metric_p], **dict)\n",
        "\n",
        "Test = dataset.get_ex('test', multi_dim=False)\n",
        "\n",
        "metric_q = utils.probe_eval(eraser_quantile_train, **dict)\n",
        "metric_m = utils.probe_eval(eraser_mean_train, **dict)\n",
        "metric_p = utils.probe_eval(eraser_probe_train, **dict)\n",
        "\n",
        "acc_data_2 = store_test_hyperplane.hyperplane_acc(Test, [metric_q, metric_m, metric_p], **dict)"
      ]
    },
    {
      "cell_type": "code",
      "execution_count": null,
      "metadata": {
        "colab": {
          "base_uri": "https://localhost:8080/",
          "height": 507
        },
        "id": "bID0QpydO1WC",
        "outputId": "fd64a30e-f869-48e8-e909-d38d8e8d6350"
      },
      "outputs": [
        {
          "data": {
            "image/png": "[encoded data removed]",
            "text/plain": [
              "<Figure size 1000x500 with 2 Axes>"
            ]
          },
          "metadata": {},
          "output_type": "display_data"
        }
      ],
      "source": [
        "nb_layers = len(model.transformer.h)\n",
        "\n",
        "fig, axes = plt.subplots(1, 2, figsize=(10, 5), sharex = True, sharey = True)\n",
        "\n",
        "axes[0].plot(acc_data_1[0], label = 'Quantile hyperplane')\n",
        "axes[0].plot(acc_data_1[1], label = 'Mean hyperplane')\n",
        "axes[0].plot(acc_data_1[2], label = 'Logistic hyperplane')\n",
        "axes[0].plot([0, nb_layers-1],[0.5, 0.5], color = 'black', label = 'Random hyperplane')\n",
        "axes[0].set_title(\"Hyperplanes' accuracy on 100-100% gendered words\")\n",
        "axes[0].set_xlabel(\"Layer\")\n",
        "axes[0].set_ylabel(\"Accuracy\")\n",
        "axes[0].set_ylim(-0.1, 1.1)\n",
        "axes[0].legend()\n",
        "\n",
        "axes[1].plot(acc_data_2[0], label = 'Quantile hyperplane')\n",
        "axes[1].plot(acc_data_2[1], label = 'Mean hyperplane')\n",
        "axes[1].plot(acc_data_2[2], label = 'Logistic hyperplane')\n",
        "axes[1].plot([0, nb_layers-1],[0.5, 0.5], color = 'black', label = 'Random hyperplane')\n",
        "axes[1].set_title(\"Hyperplanes' accuracy on {}-{}% gendered words\".format(int(100*train_test_ratio), int(100*(1-train_test_ratio))))\n",
        "axes[1].set_xlabel(\"Layer\")\n",
        "axes[1].set_ylim(-0.1, 1.1)\n",
        "axes[1].legend()\n",
        "\n",
        "plt.tight_layout()\n",
        "plt.show()"
      ]
    },
    {
      "cell_type": "markdown",
      "metadata": {
        "id": "ELn5Qq3EmOe_"
      },
      "source": [
        "# Learning and Testing Directions"
      ]
    },
    {
      "cell_type": "markdown",
      "metadata": {},
      "source": [
        "Similarly to the last section, we learn the leace and Logistic direction but this time on pairs of example instead of examples directly.\\ \n",
        "$Y = X_{male} - X_{female}$\\\n",
        "\\\n",
        "Thus:\n",
        "* we need paired examples, thus we can't use the dataset 2,\n",
        "* we have $b_{mean} = b_{quantile} = 0$,"
      ]
    },
    {
      "cell_type": "code",
      "execution_count": null,
      "metadata": {
        "colab": {
          "base_uri": "https://localhost:8080/"
        },
        "id": "-seP6kcLpMwc",
        "outputId": "60d0c9c8-2eeb-42e6-e431-ddf08d734cb9"
      },
      "outputs": [
        {
          "ename": "NameError",
          "evalue": "name 'Data_m_1' is not defined",
          "output_type": "error",
          "traceback": [
            "\u001b[0;31m---------------------------------------------------------------------------\u001b[0m",
            "\u001b[0;31mNameError\u001b[0m                                 Traceback (most recent call last)",
            "\u001b[1;32m/Users/leodana/finding_gender_direction/exp_notebook.ipynb Cellule 20\u001b[0m line \u001b[0;36m1\n\u001b[0;32m----> <a href='vscode-notebook-cell:/Users/leodana/finding_gender_direction/exp_notebook.ipynb#X25sZmlsZQ%3D%3D?line=0'>1</a>\u001b[0m eraser_dir_mean_1, eraser_dir_probe_1 \u001b[39m=\u001b[39m store_test_hyperplane\u001b[39m.\u001b[39mstoring_directions([[Data_m_1], [Data_f_1]], post_layer_norm \u001b[39m=\u001b[39m \u001b[39mTrue\u001b[39;00m, \u001b[39m*\u001b[39m\u001b[39m*\u001b[39m\u001b[39mdict\u001b[39m)\n",
            "\u001b[0;31mNameError\u001b[0m: name 'Data_m_1' is not defined"
          ]
        }
      ],
      "source": [
        "eraser_dir_mean_1, eraser_dir_probe_1 = store_test_hyperplane.storing_directions([[Data_m_1], [Data_f_1]], post_layer_norm = True, **dict)"
      ]
    },
    {
      "cell_type": "code",
      "execution_count": null,
      "metadata": {
        "id": "Z8idVAKp1SIe"
      },
      "outputs": [],
      "source": [
        "metric_m = utils.leace_eval(eraser_dir_mean_1)\n",
        "metric_p = utils.leace_eval(eraser_dir_probe_1)\n",
        "\n",
        "acc_data = store_test_hyperplane.direction_acc([[word[0] for word in Data_m_1], [word[0] for word in Data_f_1]], [metric_m, metric_p], **dict)"
      ]
    },
    {
      "cell_type": "code",
      "execution_count": null,
      "metadata": {
        "colab": {
          "base_uri": "https://localhost:8080/"
        },
        "id": "UjbO-pdx4xIw",
        "outputId": "560ad300-052a-4f53-99bf-e717838a6cc2"
      },
      "outputs": [
        {
          "data": {
            "image/png": "[encoded data removed]",
            "text/plain": [
              "<Figure size 500x500 with 1 Axes>"
            ]
          },
          "metadata": {},
          "output_type": "display_data"
        }
      ],
      "source": [
        "nb_layers = len(model.transformer.h)\n",
        "\n",
        "fig, axes = plt.subplots(1, 1, figsize=(5, 5), sharex = True, sharey = True)\n",
        "\n",
        "axes.plot(acc_data[0], label = 'Mean direction', color = 'C1')\n",
        "axes.plot(acc_data[1], label = 'Logistic direction', color = 'C2')\n",
        "axes.plot([0, nb_layers-1],[0.5, 0.5], color = 'black', label = 'Random direction')\n",
        "axes.set_title(\"Directions' accuracy on gendered words\")\n",
        "axes.set_xlabel(\"Layer\")\n",
        "axes.set_ylabel(\"Accuracy\")\n",
        "axes.set_ylim(-0.1, 1.1)\n",
        "axes.legend()\n",
        "\n",
        "plt.tight_layout()\n",
        "plt.show()"
      ]
    },
    {
      "cell_type": "markdown",
      "metadata": {
        "id": "Cf73zWeeU81E"
      },
      "source": [
        "# Leace erasure"
      ]
    },
    {
      "cell_type": "code",
      "execution_count": null,
      "metadata": {},
      "outputs": [],
      "source": [
        "#Visualise if the test examples have good probability / accuracy\n",
        "prompts = example_prompts_A\n",
        "test_prompt = False\n",
        "\n",
        "if test_prompt:\n",
        "  tokenized_sentences = [tokenizer(prompt, return_tensors = 'pt')[\"input_ids\"].to(device) for prompt in prompts]\n",
        "\n",
        "  for tokenized_sentence, prompt in zip(tokenized_sentences, prompts):\n",
        "    print(prompt)\n",
        "    print(utils.show_proba(torch.softmax(model(tokenized_sentence).logits[0, -1], dim = -1), nb_tokens = 5, decode = True, **dict))"
      ]
    },
    {
      "cell_type": "code",
      "execution_count": 9,
      "metadata": {},
      "outputs": [
        {
          "name": "stderr",
          "output_type": "stream",
          "text": [
            "huggingface/tokenizers: The current process just got forked, after parallelism has already been used. Disabling parallelism to avoid deadlocks...\n",
            "To disable this warning, you can either:\n",
            "\t- Avoid using `tokenizers` before the fork if possible\n",
            "\t- Explicitly set the environment variable TOKENIZERS_PARALLELISM=(true | false)\n",
            "100%|██████████| 12/12 [00:27<00:00,  2.30s/it]\n"
          ]
        }
      ],
      "source": [
        "Learn = dataset.get_ex('learn', multi_dim=True)\n",
        "\n",
        "#Learning the estimators in the residual stream\n",
        "eraser_mean, eraser_quantile, _ = store_test_hyperplane.storing_hyperplanes(Learn, post_layer_norm=True, learn_probe=False, **dict)\n",
        "#eraser_mean_res, eraser_quantile_res, _ = store_test_hyperplane.storing_hyperplanes(Learn, post_layer_norm=False, learn_probe=False, **dict)"
      ]
    },
    {
      "cell_type": "code",
      "execution_count": 10,
      "metadata": {},
      "outputs": [],
      "source": [
        "#We compute all of the leace fitters and erasers\n",
        "nb_layers = len(model.transformer.h)\n",
        "layer_list = [[i for i in range(0, nb_layers)]]\n",
        "layer_res_list = [[]]\n",
        "lbds = torch.Tensor([i/10 for i in range(0, 61, 1)])\n",
        "\n",
        "attention_only = True"
      ]
    },
    {
      "cell_type": "code",
      "execution_count": 11,
      "metadata": {
        "colab": {
          "base_uri": "https://localhost:8080/"
        },
        "id": "XrN5MtRcyNfT",
        "outputId": "687345fa-dfdf-4be5-888a-48d403ef407f"
      },
      "outputs": [
        {
          "name": "stdout",
          "output_type": "stream",
          "text": [
            "Batch 0.\n"
          ]
        },
        {
          "name": "stderr",
          "output_type": "stream",
          "text": [
            "  0%|          | 0/61 [00:00<?, ?it/s]"
          ]
        },
        {
          "name": "stdout",
          "output_type": "stream",
          "text": [
            "torch.Size([34, 64, 768])\n",
            "torch.Size([34, 64, 768])\n",
            "torch.Size([34, 64, 768])\n",
            "torch.Size([34, 64, 768])\n",
            "torch.Size([34, 64, 768])\n",
            "torch.Size([34, 64, 768])\n",
            "torch.Size([34, 64, 768])\n",
            "torch.Size([34, 64, 768])\n",
            "torch.Size([34, 64, 768])\n",
            "torch.Size([34, 64, 768])\n",
            "torch.Size([34, 64, 768])\n",
            "torch.Size([34, 64, 768])\n"
          ]
        },
        {
          "name": "stderr",
          "output_type": "stream",
          "text": [
            "  2%|▏         | 1/61 [00:01<01:38,  1.65s/it]"
          ]
        },
        {
          "name": "stdout",
          "output_type": "stream",
          "text": [
            "torch.Size([34, 64, 768])\n",
            "torch.Size([34, 64, 768])\n",
            "torch.Size([34, 64, 768])\n",
            "torch.Size([34, 64, 768])\n",
            "torch.Size([34, 64, 768])\n",
            "torch.Size([34, 64, 768])\n",
            "torch.Size([34, 64, 768])\n",
            "torch.Size([34, 64, 768])\n",
            "torch.Size([34, 64, 768])\n",
            "torch.Size([34, 64, 768])\n",
            "torch.Size([34, 64, 768])\n",
            "torch.Size([34, 64, 768])\n"
          ]
        },
        {
          "name": "stderr",
          "output_type": "stream",
          "text": [
            "  3%|▎         | 2/61 [00:03<01:38,  1.67s/it]"
          ]
        },
        {
          "name": "stdout",
          "output_type": "stream",
          "text": [
            "torch.Size([34, 64, 768])\n",
            "torch.Size([34, 64, 768])\n",
            "torch.Size([34, 64, 768])\n",
            "torch.Size([34, 64, 768])\n",
            "torch.Size([34, 64, 768])\n",
            "torch.Size([34, 64, 768])\n",
            "torch.Size([34, 64, 768])\n",
            "torch.Size([34, 64, 768])\n",
            "torch.Size([34, 64, 768])\n",
            "torch.Size([34, 64, 768])\n",
            "torch.Size([34, 64, 768])\n",
            "torch.Size([34, 64, 768])\n"
          ]
        },
        {
          "name": "stderr",
          "output_type": "stream",
          "text": [
            "  5%|▍         | 3/61 [00:04<01:36,  1.67s/it]"
          ]
        },
        {
          "name": "stdout",
          "output_type": "stream",
          "text": [
            "torch.Size([34, 64, 768])\n",
            "torch.Size([34, 64, 768])\n",
            "torch.Size([34, 64, 768])\n",
            "torch.Size([34, 64, 768])\n",
            "torch.Size([34, 64, 768])\n",
            "torch.Size([34, 64, 768])\n",
            "torch.Size([34, 64, 768])\n",
            "torch.Size([34, 64, 768])\n",
            "torch.Size([34, 64, 768])\n",
            "torch.Size([34, 64, 768])\n",
            "torch.Size([34, 64, 768])\n",
            "torch.Size([34, 64, 768])\n"
          ]
        },
        {
          "name": "stderr",
          "output_type": "stream",
          "text": [
            "  7%|▋         | 4/61 [00:06<01:35,  1.68s/it]"
          ]
        },
        {
          "name": "stdout",
          "output_type": "stream",
          "text": [
            "torch.Size([34, 64, 768])\n",
            "torch.Size([34, 64, 768])\n",
            "torch.Size([34, 64, 768])\n",
            "torch.Size([34, 64, 768])\n",
            "torch.Size([34, 64, 768])\n",
            "torch.Size([34, 64, 768])\n",
            "torch.Size([34, 64, 768])\n",
            "torch.Size([34, 64, 768])\n",
            "torch.Size([34, 64, 768])\n",
            "torch.Size([34, 64, 768])\n",
            "torch.Size([34, 64, 768])\n",
            "torch.Size([34, 64, 768])\n"
          ]
        },
        {
          "name": "stderr",
          "output_type": "stream",
          "text": [
            "  8%|▊         | 5/61 [00:08<01:38,  1.77s/it]"
          ]
        },
        {
          "name": "stdout",
          "output_type": "stream",
          "text": [
            "torch.Size([34, 64, 768])\n",
            "torch.Size([34, 64, 768])\n",
            "torch.Size([34, 64, 768])\n",
            "torch.Size([34, 64, 768])\n",
            "torch.Size([34, 64, 768])\n",
            "torch.Size([34, 64, 768])\n",
            "torch.Size([34, 64, 768])\n",
            "torch.Size([34, 64, 768])\n",
            "torch.Size([34, 64, 768])\n",
            "torch.Size([34, 64, 768])\n",
            "torch.Size([34, 64, 768])\n",
            "torch.Size([34, 64, 768])\n"
          ]
        },
        {
          "name": "stderr",
          "output_type": "stream",
          "text": [
            " 10%|▉         | 6/61 [00:10<01:39,  1.81s/it]"
          ]
        },
        {
          "name": "stdout",
          "output_type": "stream",
          "text": [
            "torch.Size([34, 64, 768])\n",
            "torch.Size([34, 64, 768])\n",
            "torch.Size([34, 64, 768])\n",
            "torch.Size([34, 64, 768])\n",
            "torch.Size([34, 64, 768])\n",
            "torch.Size([34, 64, 768])\n",
            "torch.Size([34, 64, 768])\n",
            "torch.Size([34, 64, 768])\n",
            "torch.Size([34, 64, 768])\n",
            "torch.Size([34, 64, 768])\n",
            "torch.Size([34, 64, 768])\n",
            "torch.Size([34, 64, 768])\n"
          ]
        },
        {
          "name": "stderr",
          "output_type": "stream",
          "text": [
            " 11%|█▏        | 7/61 [00:12<01:38,  1.82s/it]"
          ]
        },
        {
          "name": "stdout",
          "output_type": "stream",
          "text": [
            "torch.Size([34, 64, 768])\n",
            "torch.Size([34, 64, 768])\n",
            "torch.Size([34, 64, 768])\n",
            "torch.Size([34, 64, 768])\n",
            "torch.Size([34, 64, 768])\n",
            "torch.Size([34, 64, 768])\n",
            "torch.Size([34, 64, 768])\n",
            "torch.Size([34, 64, 768])\n",
            "torch.Size([34, 64, 768])\n",
            "torch.Size([34, 64, 768])\n",
            "torch.Size([34, 64, 768])\n",
            "torch.Size([34, 64, 768])\n"
          ]
        },
        {
          "name": "stderr",
          "output_type": "stream",
          "text": [
            " 13%|█▎        | 8/61 [00:14<01:36,  1.82s/it]"
          ]
        },
        {
          "name": "stdout",
          "output_type": "stream",
          "text": [
            "torch.Size([34, 64, 768])\n",
            "torch.Size([34, 64, 768])\n",
            "torch.Size([34, 64, 768])\n",
            "torch.Size([34, 64, 768])\n",
            "torch.Size([34, 64, 768])\n",
            "torch.Size([34, 64, 768])\n",
            "torch.Size([34, 64, 768])\n",
            "torch.Size([34, 64, 768])\n",
            "torch.Size([34, 64, 768])\n",
            "torch.Size([34, 64, 768])\n",
            "torch.Size([34, 64, 768])\n",
            "torch.Size([34, 64, 768])\n"
          ]
        },
        {
          "name": "stderr",
          "output_type": "stream",
          "text": [
            " 15%|█▍        | 9/61 [00:15<01:34,  1.81s/it]"
          ]
        },
        {
          "name": "stdout",
          "output_type": "stream",
          "text": [
            "torch.Size([34, 64, 768])\n",
            "torch.Size([34, 64, 768])\n",
            "torch.Size([34, 64, 768])\n",
            "torch.Size([34, 64, 768])\n",
            "torch.Size([34, 64, 768])\n",
            "torch.Size([34, 64, 768])\n",
            "torch.Size([34, 64, 768])\n",
            "torch.Size([34, 64, 768])\n",
            "torch.Size([34, 64, 768])\n",
            "torch.Size([34, 64, 768])\n",
            "torch.Size([34, 64, 768])\n",
            "torch.Size([34, 64, 768])\n"
          ]
        },
        {
          "name": "stderr",
          "output_type": "stream",
          "text": [
            " 16%|█▋        | 10/61 [00:17<01:31,  1.80s/it]"
          ]
        },
        {
          "name": "stdout",
          "output_type": "stream",
          "text": [
            "torch.Size([34, 64, 768])\n",
            "torch.Size([34, 64, 768])\n",
            "torch.Size([34, 64, 768])\n",
            "torch.Size([34, 64, 768])\n",
            "torch.Size([34, 64, 768])\n",
            "torch.Size([34, 64, 768])\n",
            "torch.Size([34, 64, 768])\n",
            "torch.Size([34, 64, 768])\n",
            "torch.Size([34, 64, 768])\n",
            "torch.Size([34, 64, 768])\n",
            "torch.Size([34, 64, 768])\n",
            "torch.Size([34, 64, 768])\n"
          ]
        },
        {
          "name": "stderr",
          "output_type": "stream",
          "text": [
            " 18%|█▊        | 11/61 [00:19<01:27,  1.75s/it]"
          ]
        },
        {
          "name": "stdout",
          "output_type": "stream",
          "text": [
            "torch.Size([34, 64, 768])\n",
            "torch.Size([34, 64, 768])\n",
            "torch.Size([34, 64, 768])\n",
            "torch.Size([34, 64, 768])\n",
            "torch.Size([34, 64, 768])\n",
            "torch.Size([34, 64, 768])\n",
            "torch.Size([34, 64, 768])\n",
            "torch.Size([34, 64, 768])\n",
            "torch.Size([34, 64, 768])\n",
            "torch.Size([34, 64, 768])\n",
            "torch.Size([34, 64, 768])\n",
            "torch.Size([34, 64, 768])\n"
          ]
        },
        {
          "name": "stderr",
          "output_type": "stream",
          "text": [
            " 20%|█▉        | 12/61 [00:20<01:23,  1.71s/it]"
          ]
        },
        {
          "name": "stdout",
          "output_type": "stream",
          "text": [
            "torch.Size([34, 64, 768])\n",
            "torch.Size([34, 64, 768])\n",
            "torch.Size([34, 64, 768])\n",
            "torch.Size([34, 64, 768])\n",
            "torch.Size([34, 64, 768])\n",
            "torch.Size([34, 64, 768])\n",
            "torch.Size([34, 64, 768])\n",
            "torch.Size([34, 64, 768])\n",
            "torch.Size([34, 64, 768])\n",
            "torch.Size([34, 64, 768])\n",
            "torch.Size([34, 64, 768])\n",
            "torch.Size([34, 64, 768])\n"
          ]
        },
        {
          "name": "stderr",
          "output_type": "stream",
          "text": [
            " 21%|██▏       | 13/61 [00:22<01:20,  1.67s/it]"
          ]
        },
        {
          "name": "stdout",
          "output_type": "stream",
          "text": [
            "torch.Size([34, 64, 768])\n",
            "torch.Size([34, 64, 768])\n",
            "torch.Size([34, 64, 768])\n",
            "torch.Size([34, 64, 768])\n",
            "torch.Size([34, 64, 768])\n",
            "torch.Size([34, 64, 768])\n",
            "torch.Size([34, 64, 768])\n",
            "torch.Size([34, 64, 768])\n",
            "torch.Size([34, 64, 768])\n",
            "torch.Size([34, 64, 768])\n",
            "torch.Size([34, 64, 768])\n",
            "torch.Size([34, 64, 768])\n"
          ]
        },
        {
          "name": "stderr",
          "output_type": "stream",
          "text": [
            " 23%|██▎       | 14/61 [00:24<01:17,  1.64s/it]"
          ]
        },
        {
          "name": "stdout",
          "output_type": "stream",
          "text": [
            "torch.Size([34, 64, 768])\n",
            "torch.Size([34, 64, 768])\n",
            "torch.Size([34, 64, 768])\n",
            "torch.Size([34, 64, 768])\n",
            "torch.Size([34, 64, 768])\n",
            "torch.Size([34, 64, 768])\n",
            "torch.Size([34, 64, 768])\n",
            "torch.Size([34, 64, 768])\n",
            "torch.Size([34, 64, 768])\n",
            "torch.Size([34, 64, 768])\n",
            "torch.Size([34, 64, 768])\n",
            "torch.Size([34, 64, 768])\n"
          ]
        },
        {
          "name": "stderr",
          "output_type": "stream",
          "text": [
            " 25%|██▍       | 15/61 [00:25<01:15,  1.64s/it]"
          ]
        },
        {
          "name": "stdout",
          "output_type": "stream",
          "text": [
            "torch.Size([34, 64, 768])\n",
            "torch.Size([34, 64, 768])\n",
            "torch.Size([34, 64, 768])\n",
            "torch.Size([34, 64, 768])\n",
            "torch.Size([34, 64, 768])\n",
            "torch.Size([34, 64, 768])\n",
            "torch.Size([34, 64, 768])\n",
            "torch.Size([34, 64, 768])\n",
            "torch.Size([34, 64, 768])\n",
            "torch.Size([34, 64, 768])\n",
            "torch.Size([34, 64, 768])\n",
            "torch.Size([34, 64, 768])\n"
          ]
        },
        {
          "name": "stderr",
          "output_type": "stream",
          "text": [
            " 26%|██▌       | 16/61 [00:27<01:13,  1.62s/it]"
          ]
        },
        {
          "name": "stdout",
          "output_type": "stream",
          "text": [
            "torch.Size([34, 64, 768])\n",
            "torch.Size([34, 64, 768])\n",
            "torch.Size([34, 64, 768])\n",
            "torch.Size([34, 64, 768])\n",
            "torch.Size([34, 64, 768])\n",
            "torch.Size([34, 64, 768])\n",
            "torch.Size([34, 64, 768])\n",
            "torch.Size([34, 64, 768])\n",
            "torch.Size([34, 64, 768])\n",
            "torch.Size([34, 64, 768])\n",
            "torch.Size([34, 64, 768])\n",
            "torch.Size([34, 64, 768])\n"
          ]
        },
        {
          "name": "stderr",
          "output_type": "stream",
          "text": [
            " 28%|██▊       | 17/61 [00:28<01:10,  1.61s/it]"
          ]
        },
        {
          "name": "stdout",
          "output_type": "stream",
          "text": [
            "torch.Size([34, 64, 768])\n",
            "torch.Size([34, 64, 768])\n",
            "torch.Size([34, 64, 768])\n",
            "torch.Size([34, 64, 768])\n",
            "torch.Size([34, 64, 768])\n",
            "torch.Size([34, 64, 768])\n",
            "torch.Size([34, 64, 768])\n",
            "torch.Size([34, 64, 768])\n",
            "torch.Size([34, 64, 768])\n",
            "torch.Size([34, 64, 768])\n",
            "torch.Size([34, 64, 768])\n",
            "torch.Size([34, 64, 768])\n"
          ]
        },
        {
          "name": "stderr",
          "output_type": "stream",
          "text": [
            " 30%|██▉       | 18/61 [00:30<01:09,  1.61s/it]"
          ]
        },
        {
          "name": "stdout",
          "output_type": "stream",
          "text": [
            "torch.Size([34, 64, 768])\n",
            "torch.Size([34, 64, 768])\n",
            "torch.Size([34, 64, 768])\n",
            "torch.Size([34, 64, 768])\n",
            "torch.Size([34, 64, 768])\n",
            "torch.Size([34, 64, 768])\n",
            "torch.Size([34, 64, 768])\n",
            "torch.Size([34, 64, 768])\n",
            "torch.Size([34, 64, 768])\n",
            "torch.Size([34, 64, 768])\n",
            "torch.Size([34, 64, 768])\n",
            "torch.Size([34, 64, 768])\n"
          ]
        },
        {
          "name": "stderr",
          "output_type": "stream",
          "text": [
            " 31%|███       | 19/61 [00:32<01:07,  1.61s/it]"
          ]
        },
        {
          "name": "stdout",
          "output_type": "stream",
          "text": [
            "torch.Size([34, 64, 768])\n",
            "torch.Size([34, 64, 768])\n",
            "torch.Size([34, 64, 768])\n",
            "torch.Size([34, 64, 768])\n",
            "torch.Size([34, 64, 768])\n",
            "torch.Size([34, 64, 768])\n",
            "torch.Size([34, 64, 768])\n",
            "torch.Size([34, 64, 768])\n",
            "torch.Size([34, 64, 768])\n",
            "torch.Size([34, 64, 768])\n",
            "torch.Size([34, 64, 768])\n",
            "torch.Size([34, 64, 768])\n"
          ]
        },
        {
          "name": "stderr",
          "output_type": "stream",
          "text": [
            " 33%|███▎      | 20/61 [00:33<01:06,  1.61s/it]"
          ]
        },
        {
          "name": "stdout",
          "output_type": "stream",
          "text": [
            "torch.Size([34, 64, 768])\n",
            "torch.Size([34, 64, 768])\n",
            "torch.Size([34, 64, 768])\n",
            "torch.Size([34, 64, 768])\n",
            "torch.Size([34, 64, 768])\n",
            "torch.Size([34, 64, 768])\n",
            "torch.Size([34, 64, 768])\n",
            "torch.Size([34, 64, 768])\n",
            "torch.Size([34, 64, 768])\n",
            "torch.Size([34, 64, 768])\n",
            "torch.Size([34, 64, 768])\n",
            "torch.Size([34, 64, 768])\n"
          ]
        },
        {
          "name": "stderr",
          "output_type": "stream",
          "text": [
            " 34%|███▍      | 21/61 [00:35<01:04,  1.62s/it]"
          ]
        },
        {
          "name": "stdout",
          "output_type": "stream",
          "text": [
            "torch.Size([34, 64, 768])\n",
            "torch.Size([34, 64, 768])\n",
            "torch.Size([34, 64, 768])\n",
            "torch.Size([34, 64, 768])\n",
            "torch.Size([34, 64, 768])\n",
            "torch.Size([34, 64, 768])\n",
            "torch.Size([34, 64, 768])\n",
            "torch.Size([34, 64, 768])\n",
            "torch.Size([34, 64, 768])\n",
            "torch.Size([34, 64, 768])\n",
            "torch.Size([34, 64, 768])\n",
            "torch.Size([34, 64, 768])\n"
          ]
        },
        {
          "name": "stderr",
          "output_type": "stream",
          "text": [
            " 36%|███▌      | 22/61 [00:36<01:02,  1.61s/it]"
          ]
        },
        {
          "name": "stdout",
          "output_type": "stream",
          "text": [
            "torch.Size([34, 64, 768])\n",
            "torch.Size([34, 64, 768])\n",
            "torch.Size([34, 64, 768])\n",
            "torch.Size([34, 64, 768])\n",
            "torch.Size([34, 64, 768])\n",
            "torch.Size([34, 64, 768])\n",
            "torch.Size([34, 64, 768])\n",
            "torch.Size([34, 64, 768])\n",
            "torch.Size([34, 64, 768])\n",
            "torch.Size([34, 64, 768])\n",
            "torch.Size([34, 64, 768])\n",
            "torch.Size([34, 64, 768])\n"
          ]
        },
        {
          "name": "stderr",
          "output_type": "stream",
          "text": [
            " 38%|███▊      | 23/61 [00:38<01:00,  1.60s/it]"
          ]
        },
        {
          "name": "stdout",
          "output_type": "stream",
          "text": [
            "torch.Size([34, 64, 768])\n",
            "torch.Size([34, 64, 768])\n",
            "torch.Size([34, 64, 768])\n",
            "torch.Size([34, 64, 768])\n",
            "torch.Size([34, 64, 768])\n",
            "torch.Size([34, 64, 768])\n",
            "torch.Size([34, 64, 768])\n",
            "torch.Size([34, 64, 768])\n",
            "torch.Size([34, 64, 768])\n",
            "torch.Size([34, 64, 768])\n",
            "torch.Size([34, 64, 768])\n",
            "torch.Size([34, 64, 768])\n"
          ]
        },
        {
          "name": "stderr",
          "output_type": "stream",
          "text": [
            " 39%|███▉      | 24/61 [00:40<00:59,  1.61s/it]"
          ]
        },
        {
          "name": "stdout",
          "output_type": "stream",
          "text": [
            "torch.Size([34, 64, 768])\n",
            "torch.Size([34, 64, 768])\n",
            "torch.Size([34, 64, 768])\n",
            "torch.Size([34, 64, 768])\n",
            "torch.Size([34, 64, 768])\n",
            "torch.Size([34, 64, 768])\n",
            "torch.Size([34, 64, 768])\n",
            "torch.Size([34, 64, 768])\n",
            "torch.Size([34, 64, 768])\n",
            "torch.Size([34, 64, 768])\n",
            "torch.Size([34, 64, 768])\n",
            "torch.Size([34, 64, 768])\n"
          ]
        },
        {
          "name": "stderr",
          "output_type": "stream",
          "text": [
            " 41%|████      | 25/61 [00:41<00:58,  1.63s/it]"
          ]
        },
        {
          "name": "stdout",
          "output_type": "stream",
          "text": [
            "torch.Size([34, 64, 768])\n",
            "torch.Size([34, 64, 768])\n",
            "torch.Size([34, 64, 768])\n",
            "torch.Size([34, 64, 768])\n",
            "torch.Size([34, 64, 768])\n",
            "torch.Size([34, 64, 768])\n",
            "torch.Size([34, 64, 768])\n",
            "torch.Size([34, 64, 768])\n",
            "torch.Size([34, 64, 768])\n",
            "torch.Size([34, 64, 768])\n",
            "torch.Size([34, 64, 768])\n",
            "torch.Size([34, 64, 768])\n"
          ]
        },
        {
          "name": "stderr",
          "output_type": "stream",
          "text": [
            " 43%|████▎     | 26/61 [00:43<00:56,  1.61s/it]"
          ]
        },
        {
          "name": "stdout",
          "output_type": "stream",
          "text": [
            "torch.Size([34, 64, 768])\n",
            "torch.Size([34, 64, 768])\n",
            "torch.Size([34, 64, 768])\n",
            "torch.Size([34, 64, 768])\n",
            "torch.Size([34, 64, 768])\n",
            "torch.Size([34, 64, 768])\n",
            "torch.Size([34, 64, 768])\n",
            "torch.Size([34, 64, 768])\n",
            "torch.Size([34, 64, 768])\n",
            "torch.Size([34, 64, 768])\n",
            "torch.Size([34, 64, 768])\n",
            "torch.Size([34, 64, 768])\n"
          ]
        },
        {
          "name": "stderr",
          "output_type": "stream",
          "text": [
            " 44%|████▍     | 27/61 [00:44<00:54,  1.59s/it]"
          ]
        },
        {
          "name": "stdout",
          "output_type": "stream",
          "text": [
            "torch.Size([34, 64, 768])\n",
            "torch.Size([34, 64, 768])\n",
            "torch.Size([34, 64, 768])\n",
            "torch.Size([34, 64, 768])\n",
            "torch.Size([34, 64, 768])\n",
            "torch.Size([34, 64, 768])\n",
            "torch.Size([34, 64, 768])\n",
            "torch.Size([34, 64, 768])\n",
            "torch.Size([34, 64, 768])\n",
            "torch.Size([34, 64, 768])\n",
            "torch.Size([34, 64, 768])\n",
            "torch.Size([34, 64, 768])\n"
          ]
        },
        {
          "name": "stderr",
          "output_type": "stream",
          "text": [
            " 46%|████▌     | 28/61 [00:46<00:52,  1.60s/it]"
          ]
        },
        {
          "name": "stdout",
          "output_type": "stream",
          "text": [
            "torch.Size([34, 64, 768])\n",
            "torch.Size([34, 64, 768])\n",
            "torch.Size([34, 64, 768])\n",
            "torch.Size([34, 64, 768])\n",
            "torch.Size([34, 64, 768])\n",
            "torch.Size([34, 64, 768])\n",
            "torch.Size([34, 64, 768])\n",
            "torch.Size([34, 64, 768])\n",
            "torch.Size([34, 64, 768])\n",
            "torch.Size([34, 64, 768])\n",
            "torch.Size([34, 64, 768])\n",
            "torch.Size([34, 64, 768])\n"
          ]
        },
        {
          "name": "stderr",
          "output_type": "stream",
          "text": [
            " 48%|████▊     | 29/61 [00:48<00:52,  1.63s/it]"
          ]
        },
        {
          "name": "stdout",
          "output_type": "stream",
          "text": [
            "torch.Size([34, 64, 768])\n",
            "torch.Size([34, 64, 768])\n",
            "torch.Size([34, 64, 768])\n",
            "torch.Size([34, 64, 768])\n",
            "torch.Size([34, 64, 768])\n",
            "torch.Size([34, 64, 768])\n",
            "torch.Size([34, 64, 768])\n",
            "torch.Size([34, 64, 768])\n",
            "torch.Size([34, 64, 768])\n",
            "torch.Size([34, 64, 768])\n",
            "torch.Size([34, 64, 768])\n",
            "torch.Size([34, 64, 768])\n"
          ]
        },
        {
          "name": "stderr",
          "output_type": "stream",
          "text": [
            " 49%|████▉     | 30/61 [00:49<00:50,  1.64s/it]"
          ]
        },
        {
          "name": "stdout",
          "output_type": "stream",
          "text": [
            "torch.Size([34, 64, 768])\n",
            "torch.Size([34, 64, 768])\n",
            "torch.Size([34, 64, 768])\n",
            "torch.Size([34, 64, 768])\n",
            "torch.Size([34, 64, 768])\n",
            "torch.Size([34, 64, 768])\n",
            "torch.Size([34, 64, 768])\n",
            "torch.Size([34, 64, 768])\n",
            "torch.Size([34, 64, 768])\n",
            "torch.Size([34, 64, 768])\n",
            "torch.Size([34, 64, 768])\n",
            "torch.Size([34, 64, 768])\n"
          ]
        },
        {
          "name": "stderr",
          "output_type": "stream",
          "text": [
            " 51%|█████     | 31/61 [00:51<00:48,  1.62s/it]"
          ]
        },
        {
          "name": "stdout",
          "output_type": "stream",
          "text": [
            "torch.Size([34, 64, 768])\n",
            "torch.Size([34, 64, 768])\n",
            "torch.Size([34, 64, 768])\n",
            "torch.Size([34, 64, 768])\n",
            "torch.Size([34, 64, 768])\n",
            "torch.Size([34, 64, 768])\n",
            "torch.Size([34, 64, 768])\n",
            "torch.Size([34, 64, 768])\n",
            "torch.Size([34, 64, 768])\n",
            "torch.Size([34, 64, 768])\n",
            "torch.Size([34, 64, 768])\n",
            "torch.Size([34, 64, 768])\n"
          ]
        },
        {
          "name": "stderr",
          "output_type": "stream",
          "text": [
            " 52%|█████▏    | 32/61 [00:53<00:46,  1.60s/it]"
          ]
        },
        {
          "name": "stdout",
          "output_type": "stream",
          "text": [
            "torch.Size([34, 64, 768])\n",
            "torch.Size([34, 64, 768])\n",
            "torch.Size([34, 64, 768])\n",
            "torch.Size([34, 64, 768])\n",
            "torch.Size([34, 64, 768])\n",
            "torch.Size([34, 64, 768])\n",
            "torch.Size([34, 64, 768])\n",
            "torch.Size([34, 64, 768])\n",
            "torch.Size([34, 64, 768])\n",
            "torch.Size([34, 64, 768])\n",
            "torch.Size([34, 64, 768])\n",
            "torch.Size([34, 64, 768])\n"
          ]
        },
        {
          "name": "stderr",
          "output_type": "stream",
          "text": [
            " 54%|█████▍    | 33/61 [00:54<00:44,  1.59s/it]"
          ]
        },
        {
          "name": "stdout",
          "output_type": "stream",
          "text": [
            "torch.Size([34, 64, 768])\n",
            "torch.Size([34, 64, 768])\n",
            "torch.Size([34, 64, 768])\n",
            "torch.Size([34, 64, 768])\n",
            "torch.Size([34, 64, 768])\n",
            "torch.Size([34, 64, 768])\n",
            "torch.Size([34, 64, 768])\n",
            "torch.Size([34, 64, 768])\n",
            "torch.Size([34, 64, 768])\n",
            "torch.Size([34, 64, 768])\n",
            "torch.Size([34, 64, 768])\n",
            "torch.Size([34, 64, 768])\n"
          ]
        },
        {
          "name": "stderr",
          "output_type": "stream",
          "text": [
            " 56%|█████▌    | 34/61 [00:56<00:42,  1.58s/it]"
          ]
        },
        {
          "name": "stdout",
          "output_type": "stream",
          "text": [
            "torch.Size([34, 64, 768])\n",
            "torch.Size([34, 64, 768])\n",
            "torch.Size([34, 64, 768])\n",
            "torch.Size([34, 64, 768])\n",
            "torch.Size([34, 64, 768])\n",
            "torch.Size([34, 64, 768])\n",
            "torch.Size([34, 64, 768])\n",
            "torch.Size([34, 64, 768])\n",
            "torch.Size([34, 64, 768])\n",
            "torch.Size([34, 64, 768])\n",
            "torch.Size([34, 64, 768])\n",
            "torch.Size([34, 64, 768])\n"
          ]
        },
        {
          "name": "stderr",
          "output_type": "stream",
          "text": [
            " 57%|█████▋    | 35/61 [00:57<00:41,  1.58s/it]"
          ]
        },
        {
          "name": "stdout",
          "output_type": "stream",
          "text": [
            "torch.Size([34, 64, 768])\n",
            "torch.Size([34, 64, 768])\n",
            "torch.Size([34, 64, 768])\n",
            "torch.Size([34, 64, 768])\n",
            "torch.Size([34, 64, 768])\n",
            "torch.Size([34, 64, 768])\n",
            "torch.Size([34, 64, 768])\n",
            "torch.Size([34, 64, 768])\n",
            "torch.Size([34, 64, 768])\n",
            "torch.Size([34, 64, 768])\n",
            "torch.Size([34, 64, 768])\n",
            "torch.Size([34, 64, 768])\n"
          ]
        },
        {
          "name": "stderr",
          "output_type": "stream",
          "text": [
            " 59%|█████▉    | 36/61 [00:59<00:39,  1.58s/it]"
          ]
        },
        {
          "name": "stdout",
          "output_type": "stream",
          "text": [
            "torch.Size([34, 64, 768])\n",
            "torch.Size([34, 64, 768])\n",
            "torch.Size([34, 64, 768])\n",
            "torch.Size([34, 64, 768])\n",
            "torch.Size([34, 64, 768])\n",
            "torch.Size([34, 64, 768])\n",
            "torch.Size([34, 64, 768])\n",
            "torch.Size([34, 64, 768])\n",
            "torch.Size([34, 64, 768])\n",
            "torch.Size([34, 64, 768])\n",
            "torch.Size([34, 64, 768])\n",
            "torch.Size([34, 64, 768])\n"
          ]
        },
        {
          "name": "stderr",
          "output_type": "stream",
          "text": [
            " 61%|██████    | 37/61 [01:01<00:38,  1.61s/it]"
          ]
        },
        {
          "name": "stdout",
          "output_type": "stream",
          "text": [
            "torch.Size([34, 64, 768])\n",
            "torch.Size([34, 64, 768])\n",
            "torch.Size([34, 64, 768])\n",
            "torch.Size([34, 64, 768])\n",
            "torch.Size([34, 64, 768])\n",
            "torch.Size([34, 64, 768])\n",
            "torch.Size([34, 64, 768])\n",
            "torch.Size([34, 64, 768])\n",
            "torch.Size([34, 64, 768])\n",
            "torch.Size([34, 64, 768])\n",
            "torch.Size([34, 64, 768])\n",
            "torch.Size([34, 64, 768])\n"
          ]
        },
        {
          "name": "stderr",
          "output_type": "stream",
          "text": [
            " 62%|██████▏   | 38/61 [01:02<00:37,  1.62s/it]"
          ]
        },
        {
          "name": "stdout",
          "output_type": "stream",
          "text": [
            "torch.Size([34, 64, 768])\n",
            "torch.Size([34, 64, 768])\n",
            "torch.Size([34, 64, 768])\n",
            "torch.Size([34, 64, 768])\n",
            "torch.Size([34, 64, 768])\n",
            "torch.Size([34, 64, 768])\n",
            "torch.Size([34, 64, 768])\n",
            "torch.Size([34, 64, 768])\n",
            "torch.Size([34, 64, 768])\n",
            "torch.Size([34, 64, 768])\n",
            "torch.Size([34, 64, 768])\n",
            "torch.Size([34, 64, 768])\n"
          ]
        },
        {
          "name": "stderr",
          "output_type": "stream",
          "text": [
            " 64%|██████▍   | 39/61 [01:04<00:35,  1.61s/it]"
          ]
        },
        {
          "name": "stdout",
          "output_type": "stream",
          "text": [
            "torch.Size([34, 64, 768])\n",
            "torch.Size([34, 64, 768])\n",
            "torch.Size([34, 64, 768])\n",
            "torch.Size([34, 64, 768])\n",
            "torch.Size([34, 64, 768])\n",
            "torch.Size([34, 64, 768])\n",
            "torch.Size([34, 64, 768])\n",
            "torch.Size([34, 64, 768])\n",
            "torch.Size([34, 64, 768])\n",
            "torch.Size([34, 64, 768])\n",
            "torch.Size([34, 64, 768])\n",
            "torch.Size([34, 64, 768])\n"
          ]
        },
        {
          "name": "stderr",
          "output_type": "stream",
          "text": [
            " 66%|██████▌   | 40/61 [01:05<00:33,  1.60s/it]"
          ]
        },
        {
          "name": "stdout",
          "output_type": "stream",
          "text": [
            "torch.Size([34, 64, 768])\n",
            "torch.Size([34, 64, 768])\n",
            "torch.Size([34, 64, 768])\n",
            "torch.Size([34, 64, 768])\n",
            "torch.Size([34, 64, 768])\n",
            "torch.Size([34, 64, 768])\n",
            "torch.Size([34, 64, 768])\n",
            "torch.Size([34, 64, 768])\n",
            "torch.Size([34, 64, 768])\n",
            "torch.Size([34, 64, 768])\n",
            "torch.Size([34, 64, 768])\n",
            "torch.Size([34, 64, 768])\n"
          ]
        },
        {
          "name": "stderr",
          "output_type": "stream",
          "text": [
            " 67%|██████▋   | 41/61 [01:07<00:32,  1.60s/it]"
          ]
        },
        {
          "name": "stdout",
          "output_type": "stream",
          "text": [
            "torch.Size([34, 64, 768])\n",
            "torch.Size([34, 64, 768])\n",
            "torch.Size([34, 64, 768])\n",
            "torch.Size([34, 64, 768])\n",
            "torch.Size([34, 64, 768])\n",
            "torch.Size([34, 64, 768])\n",
            "torch.Size([34, 64, 768])\n",
            "torch.Size([34, 64, 768])\n"
          ]
        },
        {
          "name": "stderr",
          "output_type": "stream",
          "text": [
            " 67%|██████▋   | 41/61 [01:08<00:33,  1.67s/it]"
          ]
        },
        {
          "name": "stdout",
          "output_type": "stream",
          "text": [
            "torch.Size([34, 64, 768])\n",
            "torch.Size([34, 64, 768])\n"
          ]
        },
        {
          "name": "stderr",
          "output_type": "stream",
          "text": [
            "\n"
          ]
        },
        {
          "name": "stdout",
          "output_type": "stream",
          "text": [
            "Unexpected exception formatting exception. Falling back to standard exception\n"
          ]
        },
        {
          "name": "stderr",
          "output_type": "stream",
          "text": [
            "Traceback (most recent call last):\n",
            "  File \"/Users/leodana/anaconda3/envs/leo_env/lib/python3.11/site-packages/IPython/core/interactiveshell.py\", line 3526, in run_code\n",
            "    exec(code_obj, self.user_global_ns, self.user_ns)\n",
            "  File \"/var/folders/f2/z269ddw93kgfsjllcq_m60240000gn/T/ipykernel_8093/279387160.py\", line 1, in <module>\n",
            "    score_A = inference_time_modification.score(\n",
            "              ^^^^^^^^^^^^^^^^^^^^^^^^^^^^^^^^^^\n",
            "  File \"/Users/leodana/finding_gender_direction/hyperplane_computation/inference_time_modification.py\", line 88, in score\n",
            "    batch_score.append(cache_intervention(example_tokens, logit_target, leace_list, leace_res_list,\n",
            "                      ^^^^^^^^^^^^^^^^^^^^^^^^^^^^^^^^^^^^^^^^^^^^^^^^^^^^^^^^^^^^^^^^^^^^^^^^^^^^^\n",
            "  File \"/Users/leodana/finding_gender_direction/hyperplane_computation/inference_time_modification.py\", line 39, in cache_intervention\n",
            "    probas = torch.softmax(model(example_tokens).logits, dim = -1)\n",
            "                           ^^^^^^^^^^^^^^^^^^^^^\n",
            "  File \"/Users/leodana/anaconda3/envs/leo_env/lib/python3.11/site-packages/torch/nn/modules/module.py\", line 1518, in _wrapped_call_impl\n",
            "    return self._call_impl(*args, **kwargs)\n",
            "           ^^^^^^^^^^^^^^^^^^^^^^^^^^^^^^^^\n",
            "  File \"/Users/leodana/anaconda3/envs/leo_env/lib/python3.11/site-packages/torch/nn/modules/module.py\", line 1527, in _call_impl\n",
            "    return forward_call(*args, **kwargs)\n",
            "           ^^^^^^^^^^^^^^^^^^^^^^^^^^^^^\n",
            "  File \"/Users/leodana/anaconda3/envs/leo_env/lib/python3.11/site-packages/transformers/models/gpt2/modeling_gpt2.py\", line 1076, in forward\n",
            "    transformer_outputs = self.transformer(\n",
            "                          ^^^^^^^^^^^^^^^^^\n",
            "  File \"/Users/leodana/anaconda3/envs/leo_env/lib/python3.11/site-packages/torch/nn/modules/module.py\", line 1518, in _wrapped_call_impl\n",
            "    return self._call_impl(*args, **kwargs)\n",
            "           ^^^^^^^^^^^^^^^^^^^^^^^^^^^^^^^^\n",
            "  File \"/Users/leodana/anaconda3/envs/leo_env/lib/python3.11/site-packages/torch/nn/modules/module.py\", line 1527, in _call_impl\n",
            "    return forward_call(*args, **kwargs)\n",
            "           ^^^^^^^^^^^^^^^^^^^^^^^^^^^^^\n",
            "  File \"/Users/leodana/anaconda3/envs/leo_env/lib/python3.11/site-packages/transformers/models/gpt2/modeling_gpt2.py\", line 900, in forward\n",
            "    outputs = block(\n",
            "              ^^^^^^\n",
            "  File \"/Users/leodana/anaconda3/envs/leo_env/lib/python3.11/site-packages/torch/nn/modules/module.py\", line 1518, in _wrapped_call_impl\n",
            "    return self._call_impl(*args, **kwargs)\n",
            "           ^^^^^^^^^^^^^^^^^^^^^^^^^^^^^^^^\n",
            "  File \"/Users/leodana/anaconda3/envs/leo_env/lib/python3.11/site-packages/torch/nn/modules/module.py\", line 1527, in _call_impl\n",
            "    return forward_call(*args, **kwargs)\n",
            "           ^^^^^^^^^^^^^^^^^^^^^^^^^^^^^\n",
            "  File \"/Users/leodana/anaconda3/envs/leo_env/lib/python3.11/site-packages/transformers/models/gpt2/modeling_gpt2.py\", line 390, in forward\n",
            "    attn_outputs = self.attn(\n",
            "                   ^^^^^^^^^^\n",
            "  File \"/Users/leodana/anaconda3/envs/leo_env/lib/python3.11/site-packages/torch/nn/modules/module.py\", line 1518, in _wrapped_call_impl\n",
            "    return self._call_impl(*args, **kwargs)\n",
            "           ^^^^^^^^^^^^^^^^^^^^^^^^^^^^^^^^\n",
            "  File \"/Users/leodana/anaconda3/envs/leo_env/lib/python3.11/site-packages/torch/nn/modules/module.py\", line 1581, in _call_impl\n",
            "    hook_result = hook(self, args, result)\n",
            "                  ^^^^^^^^^^^^^^^^^^^^^^^^\n",
            "  File \"/Users/leodana/finding_gender_direction/hyperplane_computation/inference_time_modification.py\", line 190, in hook\n",
            "    return hook\n",
            "             ^^^\n",
            "  File \"/Users/leodana/finding_gender_direction/hyperplane_computation/inference_time_modification.py\", line 129, in attn_forward\n",
            "  File \"/Users/leodana/anaconda3/envs/leo_env/lib/python3.11/site-packages/torch/nn/modules/module.py\", line 1518, in _wrapped_call_impl\n",
            "    return self._call_impl(*args, **kwargs)\n",
            "           ^^^^^^^^^^^^^^^^^^^^^^^^^^^^^^^^\n",
            "  File \"/Users/leodana/anaconda3/envs/leo_env/lib/python3.11/site-packages/torch/nn/modules/module.py\", line 1527, in _call_impl\n",
            "    return forward_call(*args, **kwargs)\n",
            "           ^^^^^^^^^^^^^^^^^^^^^^^^^^^^^\n",
            "  File \"/Users/leodana/anaconda3/envs/leo_env/lib/python3.11/site-packages/transformers/pytorch_utils.py\", line 106, in forward\n",
            "    x = torch.addmm(self.bias, x.view(-1, x.size(-1)), self.weight)\n",
            "        ^^^^^^^^^^^^^^^^^^^^^^^^^^^^^^^^^^^^^^^^^^^^^^^^^^^^^^^^^^^\n",
            "KeyboardInterrupt\n",
            "\n",
            "During handling of the above exception, another exception occurred:\n",
            "\n",
            "Traceback (most recent call last):\n",
            "  File \"/Users/leodana/anaconda3/envs/leo_env/lib/python3.11/site-packages/IPython/core/interactiveshell.py\", line 2120, in showtraceback\n",
            "    stb = self.InteractiveTB.structured_traceback(\n",
            "          ^^^^^^^^^^^^^^^^^^^^^^^^^^^^^^^^^^^^^^^^\n",
            "  File \"/Users/leodana/anaconda3/envs/leo_env/lib/python3.11/site-packages/IPython/core/ultratb.py\", line 1435, in structured_traceback\n",
            "    return FormattedTB.structured_traceback(\n",
            "           ^^^^^^^^^^^^^^^^^^^^^^^^^^^^^^^^^\n",
            "  File \"/Users/leodana/anaconda3/envs/leo_env/lib/python3.11/site-packages/IPython/core/ultratb.py\", line 1326, in structured_traceback\n",
            "    return VerboseTB.structured_traceback(\n",
            "           ^^^^^^^^^^^^^^^^^^^^^^^^^^^^^^^\n",
            "  File \"/Users/leodana/anaconda3/envs/leo_env/lib/python3.11/site-packages/IPython/core/ultratb.py\", line 1173, in structured_traceback\n",
            "    formatted_exception = self.format_exception_as_a_whole(etype, evalue, etb, number_of_lines_of_context,\n",
            "                          ^^^^^^^^^^^^^^^^^^^^^^^^^^^^^^^^^^^^^^^^^^^^^^^^^^^^^^^^^^^^^^^^^^^^^^^^^^^^^^^^\n",
            "  File \"/Users/leodana/anaconda3/envs/leo_env/lib/python3.11/site-packages/IPython/core/ultratb.py\", line 1088, in format_exception_as_a_whole\n",
            "    frames.append(self.format_record(record))\n",
            "                  ^^^^^^^^^^^^^^^^^^^^^^^^^^\n",
            "  File \"/Users/leodana/anaconda3/envs/leo_env/lib/python3.11/site-packages/IPython/core/ultratb.py\", line 970, in format_record\n",
            "    frame_info.lines, Colors, self.has_colors, lvals\n",
            "    ^^^^^^^^^^^^^^^^\n",
            "  File \"/Users/leodana/anaconda3/envs/leo_env/lib/python3.11/site-packages/IPython/core/ultratb.py\", line 792, in lines\n",
            "    return self._sd.lines\n",
            "           ^^^^^^^^^^^^^^\n",
            "  File \"/Users/leodana/anaconda3/envs/leo_env/lib/python3.11/site-packages/stack_data/utils.py\", line 145, in cached_property_wrapper\n",
            "    value = obj.__dict__[self.func.__name__] = self.func(obj)\n",
            "                                               ^^^^^^^^^^^^^^\n",
            "  File \"/Users/leodana/anaconda3/envs/leo_env/lib/python3.11/site-packages/stack_data/core.py\", line 734, in lines\n",
            "    pieces = self.included_pieces\n",
            "             ^^^^^^^^^^^^^^^^^^^^\n",
            "  File \"/Users/leodana/anaconda3/envs/leo_env/lib/python3.11/site-packages/stack_data/utils.py\", line 145, in cached_property_wrapper\n",
            "    value = obj.__dict__[self.func.__name__] = self.func(obj)\n",
            "                                               ^^^^^^^^^^^^^^\n",
            "  File \"/Users/leodana/anaconda3/envs/leo_env/lib/python3.11/site-packages/stack_data/core.py\", line 681, in included_pieces\n",
            "    pos = scope_pieces.index(self.executing_piece)\n",
            "                             ^^^^^^^^^^^^^^^^^^^^\n",
            "  File \"/Users/leodana/anaconda3/envs/leo_env/lib/python3.11/site-packages/stack_data/utils.py\", line 145, in cached_property_wrapper\n",
            "    value = obj.__dict__[self.func.__name__] = self.func(obj)\n",
            "                                               ^^^^^^^^^^^^^^\n",
            "  File \"/Users/leodana/anaconda3/envs/leo_env/lib/python3.11/site-packages/stack_data/core.py\", line 660, in executing_piece\n",
            "    return only(\n",
            "           ^^^^^\n",
            "  File \"/Users/leodana/anaconda3/envs/leo_env/lib/python3.11/site-packages/executing/executing.py\", line 116, in only\n",
            "    raise NotOneValueFound('Expected one value, found 0')\n",
            "executing.executing.NotOneValueFound: Expected one value, found 0\n"
          ]
        }
      ],
      "source": [
        "score_A = inference_time_modification.score(\n",
        "    example_prompts_A, token_lists, eraser_mean, None,#eraser_mean_res, \n",
        "    target_tokens_A, layer_list, layer_res_list, lbds = lbds, \n",
        "    attention_only = attention_only, **dict\n",
        ")\n",
        "# score_B = inference_time_modification.fast_score(\n",
        "#     example_prompts_B, token_lists, eraser_mean, eraser_mean_res, \n",
        "#     target_tokens_B, layer_list, layer_res_list, lbds = lbds, \n",
        "#     attention_only = attention_only, **dict\n",
        "# )\n",
        "# score_C = inference_time_modification.fast_score(\n",
        "#     example_prompts_C, token_lists, eraser_mean, eraser_mean_res, \n",
        "#     target_tokens_C, layer_list, layer_res_list, lbds = lbds, \n",
        "#     attention_only = attention_only, **dict\n",
        "# )"
      ]
    },
    {
      "cell_type": "code",
      "execution_count": null,
      "metadata": {
        "id": "DtlnaR8MJn-7"
      },
      "outputs": [],
      "source": [
        "#If the code interupts while a hook is running, this will reset the model.\n",
        "for module in model.transformer.h:\n",
        "  module._forward_pre_hooks.clear()\n",
        "  module.attn._forward_pre_hooks.clear()\n",
        "  module.attn._forward_hooks.clear()"
      ]
    },
    {
      "cell_type": "code",
      "execution_count": null,
      "metadata": {
        "colab": {
          "base_uri": "https://localhost:8080/",
          "height": 487
        },
        "id": "WOd1gnYSZf2e",
        "outputId": "f3ce2aae-160d-48d9-dd0f-c832dc068009"
      },
      "outputs": [
        {
          "data": {
            "image/png": "[encoded data removed]",
            "text/plain": [
              "<Figure size 1000x500 with 2 Axes>"
            ]
          },
          "metadata": {},
          "output_type": "display_data"
        }
      ],
      "source": [
        "#Plots the graphs depending if we intervene in the attention or not.\n",
        "score = score_A\n",
        "dir = 1\n",
        "\n",
        "if attention_only:\n",
        "    fig, axes = plt.subplots(1, 2, figsize=(10, 5), sharex = True, sharey = True)\n",
        "\n",
        "    s = torch.mean(torch.cat([s[0] for s in score], dim = 0), dim = -1).T.to('cpu')\n",
        "    acc = [torch.mean(torch.Tensor([[1 if (score_l[1] - score_l[0])*dir > 0 else 0 for score_l in sub_score[0].T] for sub_score in scOre]), dim = -1).item() for scOre in score]\n",
        "\n",
        "    axes[0].scatter([0, 0], [s[0][0], s[1][0]], color = \"k\", label = 'Base')\n",
        "    axes[0].scatter([1, 1], [s[0][10], s[1][10]], color = 'k', label = 'Erase', marker = \"*\")\n",
        "    axes[0].scatter([2, 2], [s[0][20], s[1][20]], color = 'k', label = 'Steer', marker = \"x\")\n",
        "    axes[0].plot(lbds, s[0], color = 'cyan')\n",
        "    axes[0].plot(lbds, s[1], color = 'pink')\n",
        "\n",
        "    axes[0].legend()\n",
        "    axes[0].set_title(\"Probability for multiple layers intervention\")\n",
        "    axes[0].set_xlabel(\"Lambda\")\n",
        "    axes[0].set_ylabel(\"Probability\")\n",
        "    axes[0].set_ylim(-0.1, 1.1)\n",
        "\n",
        "    axes[1].scatter([0], [acc[0]], color = \"k\", label = 'Base')\n",
        "    axes[1].scatter([1], [acc[10]], color = 'k', label = 'Erase', marker = \"*\")\n",
        "    axes[1].scatter([2], [acc[20]], color = 'k', label = 'Steer', marker = \"x\")\n",
        "    axes[1].plot(lbds, acc, color = 'black')\n",
        "    axes[1].set_xlabel(\"Lambda\")\n",
        "    axes[1].set_title(\"Accuracy for multiple layers intervention\")\n",
        "    axes[1].set_ylabel(\"Accuracy\")\n",
        "    axes[1].legend()\n",
        "\n",
        "else:\n",
        "    fig, axes = plt.subplots(1, 2, figsize=(10, 5), sharex = True)\n",
        "\n",
        "    probas = [torch.mean(torch.cat(score, dim = 0), dim = -1) for score in score]\n",
        "\n",
        "    for i, proba in enumerate(probas):\n",
        "        axes[0].plot(layer_list, [g[0].item() for g in proba], label = 'lambda {}'.format(lbds[i]), color = plt.colormap(i/N))\n",
        "        axes[0].plot(layer_list, [g[1].item() for g in proba], color = plt.colormap(i/N))\n",
        "    axes[0].set_title(\"Probability after gender steering\")\n",
        "    axes[0].set_xlabel(\"Layer\")\n",
        "    axes[0].set_ylabel(\"Probability\")\n",
        "    axes[0].legend()\n",
        "\n",
        "    accs = [torch.mean(torch.Tensor([[1 if (score_l[1] - score_l[0])*dir > 0 else 0 for score_l in sub_score.T] for sub_score in score]), dim = -1) for score in score]\n",
        "\n",
        "    for i, acc in enumerate(accs):\n",
        "        axes[1].plot(layer_list, acc, label = 'lambda {}'.format(lbds[i]), color = plt.colormap(i/N))\n",
        "    axes[1].set_title(\"Accuracy after gender steering\")\n",
        "    axes[1].set_xlabel(\"Layer\")\n",
        "    axes[1].set_ylabel(\"Accuracy\")\n",
        "    axes[1].legend()\n",
        "\n",
        "    plt.tight_layout()\n",
        "\n",
        "plt.show()"
      ]
    },
    {
      "cell_type": "markdown",
      "metadata": {
        "id": "nb_o1DbhhE_U"
      },
      "source": [
        "# Continuation Modification"
      ]
    },
    {
      "cell_type": "markdown",
      "metadata": {},
      "source": [
        "We test here the modification of the sentence at inference time. \\\n",
        "Given a sentence, and words to intervene on, we look at continutations to see if there is any effect or not. \\\n",
        "\\\n",
        "WORK IN PROGRESS"
      ]
    },
    {
      "cell_type": "code",
      "execution_count": null,
      "metadata": {
        "id": "6jjFKt9laqjd"
      },
      "outputs": [],
      "source": [
        "#function to make gpt2 output sentence and have a modification (writing or erasing)\n",
        "\n",
        "def hook_spe(lbd, stream_indices, example_indices):\n",
        "  def meta_hook(leace_eraser):\n",
        "    def hook(module, input):\n",
        "      if input[0].shape[1] != 1:\n",
        "        input[0][example_indices, stream_indices] -= lbd*leace_eraser.proj_left.T*((input[0][example_indices, stream_indices]-leace_eraser.bias)@leace_eraser.proj_right.T)\n",
        "      return input\n",
        "    return hook\n",
        "  return meta_hook\n",
        "\n",
        "def hook_spe_attn(stream_indices, example_indices, stream_example_indices):\n",
        "  def meta_hook(hookk):\n",
        "    def hook(module, input, output):\n",
        "      if input[0].shape[1] != 1:\n",
        "        return inference_time_modification.attn_forward(module, input[0], hookk, stream_indices, example_indices, stream_example_indices)\n",
        "      else:\n",
        "        return output\n",
        "    return hook\n",
        "  return meta_hook\n",
        "\n",
        "def generate_hook(example : str, target_text : list[str], nb_sequences : int,\n",
        "                  max_len : int, hook_layer = [],\n",
        "                  leace_eraser = None, lbd = 1):\n",
        "\n",
        "  example_tokens = tokenizer(example, return_tensors = 'pt')[\"input_ids\"].to(device)\n",
        "  target_tokens = [tokenizer(text).input_ids for text in target_text]\n",
        "  stream_indices, example_indices, stream_example_indices = utils.finds_indices(example_tokens, target_tokens)\n",
        "\n",
        "  hook_flag = []\n",
        "  for layer in hook_layer:\n",
        "    hook_flag.append(model.transformer.h[layer].attn.register_forward_hook(\n",
        "                    hook_spe_attn(stream_indices, example_indices, stream_example_indices)(hook_spe(lbd, stream_indices, example_indices)(leace_eraser[layer]))\n",
        "                    ))\n",
        "\n",
        "  torch.manual_seed(0)\n",
        "  sentences = [tokenizer.batch_decode(model.generate(example_tokens,\n",
        "                                                     max_length = max_len + example_tokens.shape[-1],\n",
        "                                                     do_sample = False,\n",
        "                                                     num_return_sequences = 1))]\n",
        "\n",
        "  for flag in hook_flag:\n",
        "    flag.remove()\n",
        "\n",
        "  return sentences"
      ]
    },
    {
      "cell_type": "code",
      "execution_count": null,
      "metadata": {
        "colab": {
          "base_uri": "https://localhost:8080/"
        },
        "id": "u3xUZtFjjid3",
        "outputId": "2d0d3c7b-12a7-4225-b9ed-abe00ac4652c"
      },
      "outputs": [
        {
          "name": "stderr",
          "output_type": "stream",
          "text": [
            "The attention mask and the pad token id were not set. As a consequence, you may observe unexpected behavior. Please pass your input's `attention_mask` to obtain reliable results.\n",
            "Setting `pad_token_id` to `eos_token_id`:50256 for open-end generation.\n",
            "The attention mask and the pad token id were not set. As a consequence, you may observe unexpected behavior. Please pass your input's `attention_mask` to obtain reliable results.\n",
            "Setting `pad_token_id` to `eos_token_id`:50256 for open-end generation.\n",
            "The attention mask and the pad token id were not set. As a consequence, you may observe unexpected behavior. Please pass your input's `attention_mask` to obtain reliable results.\n",
            "Setting `pad_token_id` to `eos_token_id`:50256 for open-end generation.\n"
          ]
        },
        {
          "name": "stdout",
          "output_type": "stream",
          "text": [
            "For layer 0 to 47, \n",
            " [0, 1, 2] \n",
            " [[['<|endoftext|>My patient, she is very nervous when she comes to see me. She is a young woman, about 25 years old, and she has been']]\n",
            "\n",
            " [['<|endoftext|>My patient, she is very nervous when she comes in. She is a very young woman, and she is very shy. She is very nervous']]\n",
            "\n",
            " [['<|endoftext|>My patient, she is very nervous when she comes to her \"She is\"\\n\\n\"She is\"\\n\\n\"She is\"\\n']]]\n"
          ]
        }
      ],
      "source": [
        "sentence = \"He is so pretty, I want to ask\"\n",
        "target_text = ['He']\n",
        "hook_layer = [i for i in range(0, 48)]\n",
        "nb_max_tokens = 20\n",
        "lbds = [0, 1, 2]\n",
        "\n",
        "for module in model.transformer.h:\n",
        "  module.attn._forward_hooks.clear()\n",
        "\n",
        "sentence = [generate_hook(tokenizer.eos_token + sentence,target_text, 1, nb_max_tokens,\n",
        "                               hook_layer = hook_layer, leace_eraser = eraser_mean_1, lbd = lbd) for lbd in lbds]\n",
        "\n",
        "print(f\"For layer {hook_layer[0]} to {hook_layer[-1]}, \\n\", lbds, \"\\n\", np.array(sentence))"
      ]
    }
  ],
  "metadata": {
    "accelerator": "GPU",
    "colab": {
      "collapsed_sections": [
        "9Hmxa7JqTbcu",
        "2DBtwRqYJenF",
        "i7lqLX6ak2FE",
        "hr1ih_8Rqdoh",
        "ELn5Qq3EmOe_",
        "pBu-UXX4mT1I",
        "jWBTyI1nKtyV",
        "_PDj6Iz7NfgK",
        "Cf73zWeeU81E",
        "nb_o1DbhhE_U",
        "SRcItZfhpfNq"
      ],
      "machine_shape": "hm",
      "provenance": []
    },
    "kernelspec": {
      "display_name": "Python 3",
      "name": "python3"
    },
    "language_info": {
      "codemirror_mode": {
        "name": "ipython",
        "version": 3
      },
      "file_extension": ".py",
      "mimetype": "text/x-python",
      "name": "python",
      "nbconvert_exporter": "python",
      "pygments_lexer": "ipython3",
      "version": "3.11.5"
    },
    "widgets": {
      "application/vnd.jupyter.widget-state+json": {
        "01f88277413b4d4ba9d97f2095b11ce3": {
          "model_module": "@jupyter-widgets/base",
          "model_module_version": "1.2.0",
          "model_name": "LayoutModel",
          "state": {
            "_model_module": "@jupyter-widgets/base",
            "_model_module_version": "1.2.0",
            "_model_name": "LayoutModel",
            "_view_count": null,
            "_view_module": "@jupyter-widgets/base",
            "_view_module_version": "1.2.0",
            "_view_name": "LayoutView",
            "align_content": null,
            "align_items": null,
            "align_self": null,
            "border": null,
            "bottom": null,
            "display": null,
            "flex": null,
            "flex_flow": null,
            "grid_area": null,
            "grid_auto_columns": null,
            "grid_auto_flow": null,
            "grid_auto_rows": null,
            "grid_column": null,
            "grid_gap": null,
            "grid_row": null,
            "grid_template_areas": null,
            "grid_template_columns": null,
            "grid_template_rows": null,
            "height": null,
            "justify_content": null,
            "justify_items": null,
            "left": null,
            "margin": null,
            "max_height": null,
            "max_width": null,
            "min_height": null,
            "min_width": null,
            "object_fit": null,
            "object_position": null,
            "order": null,
            "overflow": null,
            "overflow_x": null,
            "overflow_y": null,
            "padding": null,
            "right": null,
            "top": null,
            "visibility": null,
            "width": null
          }
        },
        "05d25e7bcc994187ba615d9e329f2731": {
          "model_module": "@jupyter-widgets/controls",
          "model_module_version": "1.5.0",
          "model_name": "FloatProgressModel",
          "state": {
            "_dom_classes": [],
            "_model_module": "@jupyter-widgets/controls",
            "_model_module_version": "1.5.0",
            "_model_name": "FloatProgressModel",
            "_view_count": null,
            "_view_module": "@jupyter-widgets/controls",
            "_view_module_version": "1.5.0",
            "_view_name": "ProgressView",
            "bar_style": "success",
            "description": "",
            "description_tooltip": null,
            "layout": "IPY_MODEL_cd9322cc3c15412caa898301334ece0f",
            "max": 456318,
            "min": 0,
            "orientation": "horizontal",
            "style": "IPY_MODEL_18a92033b9134e0e9bbbaff43a1f87db",
            "value": 456318
          }
        },
        "0d350269951c4b99ae8da07446156657": {
          "model_module": "@jupyter-widgets/base",
          "model_module_version": "1.2.0",
          "model_name": "LayoutModel",
          "state": {
            "_model_module": "@jupyter-widgets/base",
            "_model_module_version": "1.2.0",
            "_model_name": "LayoutModel",
            "_view_count": null,
            "_view_module": "@jupyter-widgets/base",
            "_view_module_version": "1.2.0",
            "_view_name": "LayoutView",
            "align_content": null,
            "align_items": null,
            "align_self": null,
            "border": null,
            "bottom": null,
            "display": null,
            "flex": null,
            "flex_flow": null,
            "grid_area": null,
            "grid_auto_columns": null,
            "grid_auto_flow": null,
            "grid_auto_rows": null,
            "grid_column": null,
            "grid_gap": null,
            "grid_row": null,
            "grid_template_areas": null,
            "grid_template_columns": null,
            "grid_template_rows": null,
            "height": null,
            "justify_content": null,
            "justify_items": null,
            "left": null,
            "margin": null,
            "max_height": null,
            "max_width": null,
            "min_height": null,
            "min_width": null,
            "object_fit": null,
            "object_position": null,
            "order": null,
            "overflow": null,
            "overflow_x": null,
            "overflow_y": null,
            "padding": null,
            "right": null,
            "top": null,
            "visibility": null,
            "width": null
          }
        },
        "10f394ace64d4f0087b4eb17e0dc91e2": {
          "model_module": "@jupyter-widgets/controls",
          "model_module_version": "1.5.0",
          "model_name": "HBoxModel",
          "state": {
            "_dom_classes": [],
            "_model_module": "@jupyter-widgets/controls",
            "_model_module_version": "1.5.0",
            "_model_name": "HBoxModel",
            "_view_count": null,
            "_view_module": "@jupyter-widgets/controls",
            "_view_module_version": "1.5.0",
            "_view_name": "HBoxView",
            "box_style": "",
            "children": [
              "IPY_MODEL_6f082ee96d16462aa67d0d2b7a33d9b6",
              "IPY_MODEL_05d25e7bcc994187ba615d9e329f2731",
              "IPY_MODEL_7cf10ab247bc4785ae8d9e6341963434"
            ],
            "layout": "IPY_MODEL_44c5ff2f8f5a479ebf2037af411940ea"
          }
        },
        "11382ec59dd24cc18c13d49866f99bfe": {
          "model_module": "@jupyter-widgets/controls",
          "model_module_version": "1.5.0",
          "model_name": "HBoxModel",
          "state": {
            "_dom_classes": [],
            "_model_module": "@jupyter-widgets/controls",
            "_model_module_version": "1.5.0",
            "_model_name": "HBoxModel",
            "_view_count": null,
            "_view_module": "@jupyter-widgets/controls",
            "_view_module_version": "1.5.0",
            "_view_name": "HBoxView",
            "box_style": "",
            "children": [
              "IPY_MODEL_b1cdd30e76664938bb6c6b4081f224ad",
              "IPY_MODEL_9146dd9bd15445cf8f1e6fb601701629",
              "IPY_MODEL_d47d8364c093431b8c9a6404303d02ff"
            ],
            "layout": "IPY_MODEL_3f66aef548ee4e93b6a7dbafbdb457c5"
          }
        },
        "17efac1b96f44f81a864327bb7304124": {
          "model_module": "@jupyter-widgets/controls",
          "model_module_version": "1.5.0",
          "model_name": "FloatProgressModel",
          "state": {
            "_dom_classes": [],
            "_model_module": "@jupyter-widgets/controls",
            "_model_module_version": "1.5.0",
            "_model_name": "FloatProgressModel",
            "_view_count": null,
            "_view_module": "@jupyter-widgets/controls",
            "_view_module_version": "1.5.0",
            "_view_name": "ProgressView",
            "bar_style": "success",
            "description": "",
            "description_tooltip": null,
            "layout": "IPY_MODEL_9f8a9c11dd02466d901d507ba3d4f10b",
            "max": 1355256,
            "min": 0,
            "orientation": "horizontal",
            "style": "IPY_MODEL_96f5601de26f48478dc27ef48ed10897",
            "value": 1355256
          }
        },
        "18a92033b9134e0e9bbbaff43a1f87db": {
          "model_module": "@jupyter-widgets/controls",
          "model_module_version": "1.5.0",
          "model_name": "ProgressStyleModel",
          "state": {
            "_model_module": "@jupyter-widgets/controls",
            "_model_module_version": "1.5.0",
            "_model_name": "ProgressStyleModel",
            "_view_count": null,
            "_view_module": "@jupyter-widgets/base",
            "_view_module_version": "1.2.0",
            "_view_name": "StyleView",
            "bar_color": null,
            "description_width": ""
          }
        },
        "193fecc1467841c29b88c2e84121957c": {
          "model_module": "@jupyter-widgets/controls",
          "model_module_version": "1.5.0",
          "model_name": "ProgressStyleModel",
          "state": {
            "_model_module": "@jupyter-widgets/controls",
            "_model_module_version": "1.5.0",
            "_model_name": "ProgressStyleModel",
            "_view_count": null,
            "_view_module": "@jupyter-widgets/base",
            "_view_module_version": "1.2.0",
            "_view_name": "StyleView",
            "bar_color": null,
            "description_width": ""
          }
        },
        "1e36b2bcb4034a3197019e4cd9893f50": {
          "model_module": "@jupyter-widgets/controls",
          "model_module_version": "1.5.0",
          "model_name": "DescriptionStyleModel",
          "state": {
            "_model_module": "@jupyter-widgets/controls",
            "_model_module_version": "1.5.0",
            "_model_name": "DescriptionStyleModel",
            "_view_count": null,
            "_view_module": "@jupyter-widgets/base",
            "_view_module_version": "1.2.0",
            "_view_name": "StyleView",
            "description_width": ""
          }
        },
        "1f59ff836613455daadbc23902e6e93b": {
          "model_module": "@jupyter-widgets/base",
          "model_module_version": "1.2.0",
          "model_name": "LayoutModel",
          "state": {
            "_model_module": "@jupyter-widgets/base",
            "_model_module_version": "1.2.0",
            "_model_name": "LayoutModel",
            "_view_count": null,
            "_view_module": "@jupyter-widgets/base",
            "_view_module_version": "1.2.0",
            "_view_name": "LayoutView",
            "align_content": null,
            "align_items": null,
            "align_self": null,
            "border": null,
            "bottom": null,
            "display": null,
            "flex": null,
            "flex_flow": null,
            "grid_area": null,
            "grid_auto_columns": null,
            "grid_auto_flow": null,
            "grid_auto_rows": null,
            "grid_column": null,
            "grid_gap": null,
            "grid_row": null,
            "grid_template_areas": null,
            "grid_template_columns": null,
            "grid_template_rows": null,
            "height": null,
            "justify_content": null,
            "justify_items": null,
            "left": null,
            "margin": null,
            "max_height": null,
            "max_width": null,
            "min_height": null,
            "min_width": null,
            "object_fit": null,
            "object_position": null,
            "order": null,
            "overflow": null,
            "overflow_x": null,
            "overflow_y": null,
            "padding": null,
            "right": null,
            "top": null,
            "visibility": null,
            "width": null
          }
        },
        "1f67df86bbc046f9b54ce8a0ab9515cb": {
          "model_module": "@jupyter-widgets/controls",
          "model_module_version": "1.5.0",
          "model_name": "DescriptionStyleModel",
          "state": {
            "_model_module": "@jupyter-widgets/controls",
            "_model_module_version": "1.5.0",
            "_model_name": "DescriptionStyleModel",
            "_view_count": null,
            "_view_module": "@jupyter-widgets/base",
            "_view_module_version": "1.2.0",
            "_view_name": "StyleView",
            "description_width": ""
          }
        },
        "2184e0f5c4f74505a3e5b6f3b8e8fee6": {
          "model_module": "@jupyter-widgets/base",
          "model_module_version": "1.2.0",
          "model_name": "LayoutModel",
          "state": {
            "_model_module": "@jupyter-widgets/base",
            "_model_module_version": "1.2.0",
            "_model_name": "LayoutModel",
            "_view_count": null,
            "_view_module": "@jupyter-widgets/base",
            "_view_module_version": "1.2.0",
            "_view_name": "LayoutView",
            "align_content": null,
            "align_items": null,
            "align_self": null,
            "border": null,
            "bottom": null,
            "display": null,
            "flex": null,
            "flex_flow": null,
            "grid_area": null,
            "grid_auto_columns": null,
            "grid_auto_flow": null,
            "grid_auto_rows": null,
            "grid_column": null,
            "grid_gap": null,
            "grid_row": null,
            "grid_template_areas": null,
            "grid_template_columns": null,
            "grid_template_rows": null,
            "height": null,
            "justify_content": null,
            "justify_items": null,
            "left": null,
            "margin": null,
            "max_height": null,
            "max_width": null,
            "min_height": null,
            "min_width": null,
            "object_fit": null,
            "object_position": null,
            "order": null,
            "overflow": null,
            "overflow_x": null,
            "overflow_y": null,
            "padding": null,
            "right": null,
            "top": null,
            "visibility": null,
            "width": null
          }
        },
        "22a045b8023c473fa97f4f712e3745a5": {
          "model_module": "@jupyter-widgets/base",
          "model_module_version": "1.2.0",
          "model_name": "LayoutModel",
          "state": {
            "_model_module": "@jupyter-widgets/base",
            "_model_module_version": "1.2.0",
            "_model_name": "LayoutModel",
            "_view_count": null,
            "_view_module": "@jupyter-widgets/base",
            "_view_module_version": "1.2.0",
            "_view_name": "LayoutView",
            "align_content": null,
            "align_items": null,
            "align_self": null,
            "border": null,
            "bottom": null,
            "display": null,
            "flex": null,
            "flex_flow": null,
            "grid_area": null,
            "grid_auto_columns": null,
            "grid_auto_flow": null,
            "grid_auto_rows": null,
            "grid_column": null,
            "grid_gap": null,
            "grid_row": null,
            "grid_template_areas": null,
            "grid_template_columns": null,
            "grid_template_rows": null,
            "height": null,
            "justify_content": null,
            "justify_items": null,
            "left": null,
            "margin": null,
            "max_height": null,
            "max_width": null,
            "min_height": null,
            "min_width": null,
            "object_fit": null,
            "object_position": null,
            "order": null,
            "overflow": null,
            "overflow_x": null,
            "overflow_y": null,
            "padding": null,
            "right": null,
            "top": null,
            "visibility": null,
            "width": null
          }
        },
        "24072924a845414eb1ca7392f8436c59": {
          "model_module": "@jupyter-widgets/controls",
          "model_module_version": "1.5.0",
          "model_name": "FloatProgressModel",
          "state": {
            "_dom_classes": [],
            "_model_module": "@jupyter-widgets/controls",
            "_model_module_version": "1.5.0",
            "_model_name": "FloatProgressModel",
            "_view_count": null,
            "_view_module": "@jupyter-widgets/controls",
            "_view_module_version": "1.5.0",
            "_view_name": "ProgressView",
            "bar_style": "success",
            "description": "",
            "description_tooltip": null,
            "layout": "IPY_MODEL_62ae57d3470d49f48c5d9bc34d66f2e3",
            "max": 124,
            "min": 0,
            "orientation": "horizontal",
            "style": "IPY_MODEL_193fecc1467841c29b88c2e84121957c",
            "value": 124
          }
        },
        "2c0ef963af74415cb5028d72fae8d803": {
          "model_module": "@jupyter-widgets/controls",
          "model_module_version": "1.5.0",
          "model_name": "DescriptionStyleModel",
          "state": {
            "_model_module": "@jupyter-widgets/controls",
            "_model_module_version": "1.5.0",
            "_model_name": "DescriptionStyleModel",
            "_view_count": null,
            "_view_module": "@jupyter-widgets/base",
            "_view_module_version": "1.2.0",
            "_view_name": "StyleView",
            "description_width": ""
          }
        },
        "336a958de37147689d02561f480dd158": {
          "model_module": "@jupyter-widgets/base",
          "model_module_version": "1.2.0",
          "model_name": "LayoutModel",
          "state": {
            "_model_module": "@jupyter-widgets/base",
            "_model_module_version": "1.2.0",
            "_model_name": "LayoutModel",
            "_view_count": null,
            "_view_module": "@jupyter-widgets/base",
            "_view_module_version": "1.2.0",
            "_view_name": "LayoutView",
            "align_content": null,
            "align_items": null,
            "align_self": null,
            "border": null,
            "bottom": null,
            "display": null,
            "flex": null,
            "flex_flow": null,
            "grid_area": null,
            "grid_auto_columns": null,
            "grid_auto_flow": null,
            "grid_auto_rows": null,
            "grid_column": null,
            "grid_gap": null,
            "grid_row": null,
            "grid_template_areas": null,
            "grid_template_columns": null,
            "grid_template_rows": null,
            "height": null,
            "justify_content": null,
            "justify_items": null,
            "left": null,
            "margin": null,
            "max_height": null,
            "max_width": null,
            "min_height": null,
            "min_width": null,
            "object_fit": null,
            "object_position": null,
            "order": null,
            "overflow": null,
            "overflow_x": null,
            "overflow_y": null,
            "padding": null,
            "right": null,
            "top": null,
            "visibility": null,
            "width": null
          }
        },
        "38340a15f7ef4e9f8bac4790edeb18f7": {
          "model_module": "@jupyter-widgets/controls",
          "model_module_version": "1.5.0",
          "model_name": "DescriptionStyleModel",
          "state": {
            "_model_module": "@jupyter-widgets/controls",
            "_model_module_version": "1.5.0",
            "_model_name": "DescriptionStyleModel",
            "_view_count": null,
            "_view_module": "@jupyter-widgets/base",
            "_view_module_version": "1.2.0",
            "_view_name": "StyleView",
            "description_width": ""
          }
        },
        "3d36ad94ee8f42608efb429c290c4272": {
          "model_module": "@jupyter-widgets/controls",
          "model_module_version": "1.5.0",
          "model_name": "HTMLModel",
          "state": {
            "_dom_classes": [],
            "_model_module": "@jupyter-widgets/controls",
            "_model_module_version": "1.5.0",
            "_model_name": "HTMLModel",
            "_view_count": null,
            "_view_module": "@jupyter-widgets/controls",
            "_view_module_version": "1.5.0",
            "_view_name": "HTMLView",
            "description": "",
            "description_tooltip": null,
            "layout": "IPY_MODEL_956d06a745ed48b5baec1f2d0173e16e",
            "placeholder": "​",
            "style": "IPY_MODEL_6ab39ddd631542af82c83c28a67ac53b",
            "value": "Downloading (…)lve/main/config.json: 100%"
          }
        },
        "3f4ebf8f4ec64eb8ab225bcdcf5d9ccc": {
          "model_module": "@jupyter-widgets/base",
          "model_module_version": "1.2.0",
          "model_name": "LayoutModel",
          "state": {
            "_model_module": "@jupyter-widgets/base",
            "_model_module_version": "1.2.0",
            "_model_name": "LayoutModel",
            "_view_count": null,
            "_view_module": "@jupyter-widgets/base",
            "_view_module_version": "1.2.0",
            "_view_name": "LayoutView",
            "align_content": null,
            "align_items": null,
            "align_self": null,
            "border": null,
            "bottom": null,
            "display": null,
            "flex": null,
            "flex_flow": null,
            "grid_area": null,
            "grid_auto_columns": null,
            "grid_auto_flow": null,
            "grid_auto_rows": null,
            "grid_column": null,
            "grid_gap": null,
            "grid_row": null,
            "grid_template_areas": null,
            "grid_template_columns": null,
            "grid_template_rows": null,
            "height": null,
            "justify_content": null,
            "justify_items": null,
            "left": null,
            "margin": null,
            "max_height": null,
            "max_width": null,
            "min_height": null,
            "min_width": null,
            "object_fit": null,
            "object_position": null,
            "order": null,
            "overflow": null,
            "overflow_x": null,
            "overflow_y": null,
            "padding": null,
            "right": null,
            "top": null,
            "visibility": null,
            "width": null
          }
        },
        "3f66aef548ee4e93b6a7dbafbdb457c5": {
          "model_module": "@jupyter-widgets/base",
          "model_module_version": "1.2.0",
          "model_name": "LayoutModel",
          "state": {
            "_model_module": "@jupyter-widgets/base",
            "_model_module_version": "1.2.0",
            "_model_name": "LayoutModel",
            "_view_count": null,
            "_view_module": "@jupyter-widgets/base",
            "_view_module_version": "1.2.0",
            "_view_name": "LayoutView",
            "align_content": null,
            "align_items": null,
            "align_self": null,
            "border": null,
            "bottom": null,
            "display": null,
            "flex": null,
            "flex_flow": null,
            "grid_area": null,
            "grid_auto_columns": null,
            "grid_auto_flow": null,
            "grid_auto_rows": null,
            "grid_column": null,
            "grid_gap": null,
            "grid_row": null,
            "grid_template_areas": null,
            "grid_template_columns": null,
            "grid_template_rows": null,
            "height": null,
            "justify_content": null,
            "justify_items": null,
            "left": null,
            "margin": null,
            "max_height": null,
            "max_width": null,
            "min_height": null,
            "min_width": null,
            "object_fit": null,
            "object_position": null,
            "order": null,
            "overflow": null,
            "overflow_x": null,
            "overflow_y": null,
            "padding": null,
            "right": null,
            "top": null,
            "visibility": null,
            "width": null
          }
        },
        "41f116e238294f528267c57e47b5be46": {
          "model_module": "@jupyter-widgets/controls",
          "model_module_version": "1.5.0",
          "model_name": "HTMLModel",
          "state": {
            "_dom_classes": [],
            "_model_module": "@jupyter-widgets/controls",
            "_model_module_version": "1.5.0",
            "_model_name": "HTMLModel",
            "_view_count": null,
            "_view_module": "@jupyter-widgets/controls",
            "_view_module_version": "1.5.0",
            "_view_name": "HTMLView",
            "description": "",
            "description_tooltip": null,
            "layout": "IPY_MODEL_3f4ebf8f4ec64eb8ab225bcdcf5d9ccc",
            "placeholder": "​",
            "style": "IPY_MODEL_8b7c5028deb5426cb78ed7606321d2e8",
            "value": " 689/689 [00:00&lt;00:00, 57.0kB/s]"
          }
        },
        "44c5ff2f8f5a479ebf2037af411940ea": {
          "model_module": "@jupyter-widgets/base",
          "model_module_version": "1.2.0",
          "model_name": "LayoutModel",
          "state": {
            "_model_module": "@jupyter-widgets/base",
            "_model_module_version": "1.2.0",
            "_model_name": "LayoutModel",
            "_view_count": null,
            "_view_module": "@jupyter-widgets/base",
            "_view_module_version": "1.2.0",
            "_view_name": "LayoutView",
            "align_content": null,
            "align_items": null,
            "align_self": null,
            "border": null,
            "bottom": null,
            "display": null,
            "flex": null,
            "flex_flow": null,
            "grid_area": null,
            "grid_auto_columns": null,
            "grid_auto_flow": null,
            "grid_auto_rows": null,
            "grid_column": null,
            "grid_gap": null,
            "grid_row": null,
            "grid_template_areas": null,
            "grid_template_columns": null,
            "grid_template_rows": null,
            "height": null,
            "justify_content": null,
            "justify_items": null,
            "left": null,
            "margin": null,
            "max_height": null,
            "max_width": null,
            "min_height": null,
            "min_width": null,
            "object_fit": null,
            "object_position": null,
            "order": null,
            "overflow": null,
            "overflow_x": null,
            "overflow_y": null,
            "padding": null,
            "right": null,
            "top": null,
            "visibility": null,
            "width": null
          }
        },
        "4897d4f1464a436ea0622c15cc2779f7": {
          "model_module": "@jupyter-widgets/base",
          "model_module_version": "1.2.0",
          "model_name": "LayoutModel",
          "state": {
            "_model_module": "@jupyter-widgets/base",
            "_model_module_version": "1.2.0",
            "_model_name": "LayoutModel",
            "_view_count": null,
            "_view_module": "@jupyter-widgets/base",
            "_view_module_version": "1.2.0",
            "_view_name": "LayoutView",
            "align_content": null,
            "align_items": null,
            "align_self": null,
            "border": null,
            "bottom": null,
            "display": null,
            "flex": null,
            "flex_flow": null,
            "grid_area": null,
            "grid_auto_columns": null,
            "grid_auto_flow": null,
            "grid_auto_rows": null,
            "grid_column": null,
            "grid_gap": null,
            "grid_row": null,
            "grid_template_areas": null,
            "grid_template_columns": null,
            "grid_template_rows": null,
            "height": null,
            "justify_content": null,
            "justify_items": null,
            "left": null,
            "margin": null,
            "max_height": null,
            "max_width": null,
            "min_height": null,
            "min_width": null,
            "object_fit": null,
            "object_position": null,
            "order": null,
            "overflow": null,
            "overflow_x": null,
            "overflow_y": null,
            "padding": null,
            "right": null,
            "top": null,
            "visibility": null,
            "width": null
          }
        },
        "4b8b76d208754220a5f4674497fdda15": {
          "model_module": "@jupyter-widgets/controls",
          "model_module_version": "1.5.0",
          "model_name": "HTMLModel",
          "state": {
            "_dom_classes": [],
            "_model_module": "@jupyter-widgets/controls",
            "_model_module_version": "1.5.0",
            "_model_name": "HTMLModel",
            "_view_count": null,
            "_view_module": "@jupyter-widgets/controls",
            "_view_module_version": "1.5.0",
            "_view_name": "HTMLView",
            "description": "",
            "description_tooltip": null,
            "layout": "IPY_MODEL_4bfb3b4516654cf099d4b80a40c31984",
            "placeholder": "​",
            "style": "IPY_MODEL_4f7cc02f6a1448c885ec2f91d27c280a",
            "value": "Downloading (…)/main/tokenizer.json: 100%"
          }
        },
        "4bfb3b4516654cf099d4b80a40c31984": {
          "model_module": "@jupyter-widgets/base",
          "model_module_version": "1.2.0",
          "model_name": "LayoutModel",
          "state": {
            "_model_module": "@jupyter-widgets/base",
            "_model_module_version": "1.2.0",
            "_model_name": "LayoutModel",
            "_view_count": null,
            "_view_module": "@jupyter-widgets/base",
            "_view_module_version": "1.2.0",
            "_view_name": "LayoutView",
            "align_content": null,
            "align_items": null,
            "align_self": null,
            "border": null,
            "bottom": null,
            "display": null,
            "flex": null,
            "flex_flow": null,
            "grid_area": null,
            "grid_auto_columns": null,
            "grid_auto_flow": null,
            "grid_auto_rows": null,
            "grid_column": null,
            "grid_gap": null,
            "grid_row": null,
            "grid_template_areas": null,
            "grid_template_columns": null,
            "grid_template_rows": null,
            "height": null,
            "justify_content": null,
            "justify_items": null,
            "left": null,
            "margin": null,
            "max_height": null,
            "max_width": null,
            "min_height": null,
            "min_width": null,
            "object_fit": null,
            "object_position": null,
            "order": null,
            "overflow": null,
            "overflow_x": null,
            "overflow_y": null,
            "padding": null,
            "right": null,
            "top": null,
            "visibility": null,
            "width": null
          }
        },
        "4f7cc02f6a1448c885ec2f91d27c280a": {
          "model_module": "@jupyter-widgets/controls",
          "model_module_version": "1.5.0",
          "model_name": "DescriptionStyleModel",
          "state": {
            "_model_module": "@jupyter-widgets/controls",
            "_model_module_version": "1.5.0",
            "_model_name": "DescriptionStyleModel",
            "_view_count": null,
            "_view_module": "@jupyter-widgets/base",
            "_view_module_version": "1.2.0",
            "_view_name": "StyleView",
            "description_width": ""
          }
        },
        "5b69e1cfd69d4bf9879f93d029535ffa": {
          "model_module": "@jupyter-widgets/controls",
          "model_module_version": "1.5.0",
          "model_name": "HTMLModel",
          "state": {
            "_dom_classes": [],
            "_model_module": "@jupyter-widgets/controls",
            "_model_module_version": "1.5.0",
            "_model_name": "HTMLModel",
            "_view_count": null,
            "_view_module": "@jupyter-widgets/controls",
            "_view_module_version": "1.5.0",
            "_view_name": "HTMLView",
            "description": "",
            "description_tooltip": null,
            "layout": "IPY_MODEL_9e49c2d1a96443aeb0c4b8b05cac60df",
            "placeholder": "​",
            "style": "IPY_MODEL_7a894a2a3a7249f1b699e9893f7df30e",
            "value": "Downloading (…)olve/main/vocab.json: 100%"
          }
        },
        "5e99bed821ce43b5a7d918d87e9ddce5": {
          "model_module": "@jupyter-widgets/controls",
          "model_module_version": "1.5.0",
          "model_name": "HBoxModel",
          "state": {
            "_dom_classes": [],
            "_model_module": "@jupyter-widgets/controls",
            "_model_module_version": "1.5.0",
            "_model_name": "HBoxModel",
            "_view_count": null,
            "_view_module": "@jupyter-widgets/controls",
            "_view_module_version": "1.5.0",
            "_view_name": "HBoxView",
            "box_style": "",
            "children": [
              "IPY_MODEL_4b8b76d208754220a5f4674497fdda15",
              "IPY_MODEL_17efac1b96f44f81a864327bb7304124",
              "IPY_MODEL_7be50e707c234a078bc45ffbd5c7f345"
            ],
            "layout": "IPY_MODEL_bb2c0b70154c4e3ead71023d5736f3cb"
          }
        },
        "62ae57d3470d49f48c5d9bc34d66f2e3": {
          "model_module": "@jupyter-widgets/base",
          "model_module_version": "1.2.0",
          "model_name": "LayoutModel",
          "state": {
            "_model_module": "@jupyter-widgets/base",
            "_model_module_version": "1.2.0",
            "_model_name": "LayoutModel",
            "_view_count": null,
            "_view_module": "@jupyter-widgets/base",
            "_view_module_version": "1.2.0",
            "_view_name": "LayoutView",
            "align_content": null,
            "align_items": null,
            "align_self": null,
            "border": null,
            "bottom": null,
            "display": null,
            "flex": null,
            "flex_flow": null,
            "grid_area": null,
            "grid_auto_columns": null,
            "grid_auto_flow": null,
            "grid_auto_rows": null,
            "grid_column": null,
            "grid_gap": null,
            "grid_row": null,
            "grid_template_areas": null,
            "grid_template_columns": null,
            "grid_template_rows": null,
            "height": null,
            "justify_content": null,
            "justify_items": null,
            "left": null,
            "margin": null,
            "max_height": null,
            "max_width": null,
            "min_height": null,
            "min_width": null,
            "object_fit": null,
            "object_position": null,
            "order": null,
            "overflow": null,
            "overflow_x": null,
            "overflow_y": null,
            "padding": null,
            "right": null,
            "top": null,
            "visibility": null,
            "width": null
          }
        },
        "6ab39ddd631542af82c83c28a67ac53b": {
          "model_module": "@jupyter-widgets/controls",
          "model_module_version": "1.5.0",
          "model_name": "DescriptionStyleModel",
          "state": {
            "_model_module": "@jupyter-widgets/controls",
            "_model_module_version": "1.5.0",
            "_model_name": "DescriptionStyleModel",
            "_view_count": null,
            "_view_module": "@jupyter-widgets/base",
            "_view_module_version": "1.2.0",
            "_view_name": "StyleView",
            "description_width": ""
          }
        },
        "6f082ee96d16462aa67d0d2b7a33d9b6": {
          "model_module": "@jupyter-widgets/controls",
          "model_module_version": "1.5.0",
          "model_name": "HTMLModel",
          "state": {
            "_dom_classes": [],
            "_model_module": "@jupyter-widgets/controls",
            "_model_module_version": "1.5.0",
            "_model_name": "HTMLModel",
            "_view_count": null,
            "_view_module": "@jupyter-widgets/controls",
            "_view_module_version": "1.5.0",
            "_view_name": "HTMLView",
            "description": "",
            "description_tooltip": null,
            "layout": "IPY_MODEL_833da11eb47c415f881a81bde11e3c41",
            "placeholder": "​",
            "style": "IPY_MODEL_1e36b2bcb4034a3197019e4cd9893f50",
            "value": "Downloading (…)olve/main/merges.txt: 100%"
          }
        },
        "7a0801250d2a4ea0ab58f7709bae33d3": {
          "model_module": "@jupyter-widgets/base",
          "model_module_version": "1.2.0",
          "model_name": "LayoutModel",
          "state": {
            "_model_module": "@jupyter-widgets/base",
            "_model_module_version": "1.2.0",
            "_model_name": "LayoutModel",
            "_view_count": null,
            "_view_module": "@jupyter-widgets/base",
            "_view_module_version": "1.2.0",
            "_view_name": "LayoutView",
            "align_content": null,
            "align_items": null,
            "align_self": null,
            "border": null,
            "bottom": null,
            "display": null,
            "flex": null,
            "flex_flow": null,
            "grid_area": null,
            "grid_auto_columns": null,
            "grid_auto_flow": null,
            "grid_auto_rows": null,
            "grid_column": null,
            "grid_gap": null,
            "grid_row": null,
            "grid_template_areas": null,
            "grid_template_columns": null,
            "grid_template_rows": null,
            "height": null,
            "justify_content": null,
            "justify_items": null,
            "left": null,
            "margin": null,
            "max_height": null,
            "max_width": null,
            "min_height": null,
            "min_width": null,
            "object_fit": null,
            "object_position": null,
            "order": null,
            "overflow": null,
            "overflow_x": null,
            "overflow_y": null,
            "padding": null,
            "right": null,
            "top": null,
            "visibility": null,
            "width": null
          }
        },
        "7a08acc07efc40e29bbe6bc67c86c5e7": {
          "model_module": "@jupyter-widgets/controls",
          "model_module_version": "1.5.0",
          "model_name": "HBoxModel",
          "state": {
            "_dom_classes": [],
            "_model_module": "@jupyter-widgets/controls",
            "_model_module_version": "1.5.0",
            "_model_name": "HBoxModel",
            "_view_count": null,
            "_view_module": "@jupyter-widgets/controls",
            "_view_module_version": "1.5.0",
            "_view_name": "HBoxView",
            "box_style": "",
            "children": [
              "IPY_MODEL_7cbcd3458a21423db5a2e14c8769d56f",
              "IPY_MODEL_24072924a845414eb1ca7392f8436c59",
              "IPY_MODEL_ea058c731697490a9ede32fcd66ec898"
            ],
            "layout": "IPY_MODEL_22a045b8023c473fa97f4f712e3745a5"
          }
        },
        "7a2df7f02a74443899586869a2440f32": {
          "model_module": "@jupyter-widgets/base",
          "model_module_version": "1.2.0",
          "model_name": "LayoutModel",
          "state": {
            "_model_module": "@jupyter-widgets/base",
            "_model_module_version": "1.2.0",
            "_model_name": "LayoutModel",
            "_view_count": null,
            "_view_module": "@jupyter-widgets/base",
            "_view_module_version": "1.2.0",
            "_view_name": "LayoutView",
            "align_content": null,
            "align_items": null,
            "align_self": null,
            "border": null,
            "bottom": null,
            "display": null,
            "flex": null,
            "flex_flow": null,
            "grid_area": null,
            "grid_auto_columns": null,
            "grid_auto_flow": null,
            "grid_auto_rows": null,
            "grid_column": null,
            "grid_gap": null,
            "grid_row": null,
            "grid_template_areas": null,
            "grid_template_columns": null,
            "grid_template_rows": null,
            "height": null,
            "justify_content": null,
            "justify_items": null,
            "left": null,
            "margin": null,
            "max_height": null,
            "max_width": null,
            "min_height": null,
            "min_width": null,
            "object_fit": null,
            "object_position": null,
            "order": null,
            "overflow": null,
            "overflow_x": null,
            "overflow_y": null,
            "padding": null,
            "right": null,
            "top": null,
            "visibility": null,
            "width": null
          }
        },
        "7a894a2a3a7249f1b699e9893f7df30e": {
          "model_module": "@jupyter-widgets/controls",
          "model_module_version": "1.5.0",
          "model_name": "DescriptionStyleModel",
          "state": {
            "_model_module": "@jupyter-widgets/controls",
            "_model_module_version": "1.5.0",
            "_model_name": "DescriptionStyleModel",
            "_view_count": null,
            "_view_module": "@jupyter-widgets/base",
            "_view_module_version": "1.2.0",
            "_view_name": "StyleView",
            "description_width": ""
          }
        },
        "7be50e707c234a078bc45ffbd5c7f345": {
          "model_module": "@jupyter-widgets/controls",
          "model_module_version": "1.5.0",
          "model_name": "HTMLModel",
          "state": {
            "_dom_classes": [],
            "_model_module": "@jupyter-widgets/controls",
            "_model_module_version": "1.5.0",
            "_model_name": "HTMLModel",
            "_view_count": null,
            "_view_module": "@jupyter-widgets/controls",
            "_view_module_version": "1.5.0",
            "_view_name": "HTMLView",
            "description": "",
            "description_tooltip": null,
            "layout": "IPY_MODEL_a2a52db6b31f4c2daf3eca334156b193",
            "placeholder": "​",
            "style": "IPY_MODEL_8ce9ea927ed845f2abe98adc7d905ae8",
            "value": " 1.36M/1.36M [00:00&lt;00:00, 3.33MB/s]"
          }
        },
        "7cbcd3458a21423db5a2e14c8769d56f": {
          "model_module": "@jupyter-widgets/controls",
          "model_module_version": "1.5.0",
          "model_name": "HTMLModel",
          "state": {
            "_dom_classes": [],
            "_model_module": "@jupyter-widgets/controls",
            "_model_module_version": "1.5.0",
            "_model_name": "HTMLModel",
            "_view_count": null,
            "_view_module": "@jupyter-widgets/controls",
            "_view_module_version": "1.5.0",
            "_view_name": "HTMLView",
            "description": "",
            "description_tooltip": null,
            "layout": "IPY_MODEL_2184e0f5c4f74505a3e5b6f3b8e8fee6",
            "placeholder": "​",
            "style": "IPY_MODEL_a8bbd9e22b804a8c8b7e75acca08ad74",
            "value": "Downloading (…)neration_config.json: 100%"
          }
        },
        "7cf10ab247bc4785ae8d9e6341963434": {
          "model_module": "@jupyter-widgets/controls",
          "model_module_version": "1.5.0",
          "model_name": "HTMLModel",
          "state": {
            "_dom_classes": [],
            "_model_module": "@jupyter-widgets/controls",
            "_model_module_version": "1.5.0",
            "_model_name": "HTMLModel",
            "_view_count": null,
            "_view_module": "@jupyter-widgets/controls",
            "_view_module_version": "1.5.0",
            "_view_name": "HTMLView",
            "description": "",
            "description_tooltip": null,
            "layout": "IPY_MODEL_7a2df7f02a74443899586869a2440f32",
            "placeholder": "​",
            "style": "IPY_MODEL_1f67df86bbc046f9b54ce8a0ab9515cb",
            "value": " 456k/456k [00:00&lt;00:00, 31.6MB/s]"
          }
        },
        "833da11eb47c415f881a81bde11e3c41": {
          "model_module": "@jupyter-widgets/base",
          "model_module_version": "1.2.0",
          "model_name": "LayoutModel",
          "state": {
            "_model_module": "@jupyter-widgets/base",
            "_model_module_version": "1.2.0",
            "_model_name": "LayoutModel",
            "_view_count": null,
            "_view_module": "@jupyter-widgets/base",
            "_view_module_version": "1.2.0",
            "_view_name": "LayoutView",
            "align_content": null,
            "align_items": null,
            "align_self": null,
            "border": null,
            "bottom": null,
            "display": null,
            "flex": null,
            "flex_flow": null,
            "grid_area": null,
            "grid_auto_columns": null,
            "grid_auto_flow": null,
            "grid_auto_rows": null,
            "grid_column": null,
            "grid_gap": null,
            "grid_row": null,
            "grid_template_areas": null,
            "grid_template_columns": null,
            "grid_template_rows": null,
            "height": null,
            "justify_content": null,
            "justify_items": null,
            "left": null,
            "margin": null,
            "max_height": null,
            "max_width": null,
            "min_height": null,
            "min_width": null,
            "object_fit": null,
            "object_position": null,
            "order": null,
            "overflow": null,
            "overflow_x": null,
            "overflow_y": null,
            "padding": null,
            "right": null,
            "top": null,
            "visibility": null,
            "width": null
          }
        },
        "84d38cf0f5864d81949a1b0bb4c29852": {
          "model_module": "@jupyter-widgets/controls",
          "model_module_version": "1.5.0",
          "model_name": "HBoxModel",
          "state": {
            "_dom_classes": [],
            "_model_module": "@jupyter-widgets/controls",
            "_model_module_version": "1.5.0",
            "_model_name": "HBoxModel",
            "_view_count": null,
            "_view_module": "@jupyter-widgets/controls",
            "_view_module_version": "1.5.0",
            "_view_name": "HBoxView",
            "box_style": "",
            "children": [
              "IPY_MODEL_5b69e1cfd69d4bf9879f93d029535ffa",
              "IPY_MODEL_ca9b0af43f134e74b8b13cc71243c094",
              "IPY_MODEL_9a205974ff5342feb1dcda14cb67b030"
            ],
            "layout": "IPY_MODEL_4897d4f1464a436ea0622c15cc2779f7"
          }
        },
        "88e0e6dac4524dc89809536a7cc7449b": {
          "model_module": "@jupyter-widgets/controls",
          "model_module_version": "1.5.0",
          "model_name": "DescriptionStyleModel",
          "state": {
            "_model_module": "@jupyter-widgets/controls",
            "_model_module_version": "1.5.0",
            "_model_name": "DescriptionStyleModel",
            "_view_count": null,
            "_view_module": "@jupyter-widgets/base",
            "_view_module_version": "1.2.0",
            "_view_name": "StyleView",
            "description_width": ""
          }
        },
        "8b7c5028deb5426cb78ed7606321d2e8": {
          "model_module": "@jupyter-widgets/controls",
          "model_module_version": "1.5.0",
          "model_name": "DescriptionStyleModel",
          "state": {
            "_model_module": "@jupyter-widgets/controls",
            "_model_module_version": "1.5.0",
            "_model_name": "DescriptionStyleModel",
            "_view_count": null,
            "_view_module": "@jupyter-widgets/base",
            "_view_module_version": "1.2.0",
            "_view_name": "StyleView",
            "description_width": ""
          }
        },
        "8ce9ea927ed845f2abe98adc7d905ae8": {
          "model_module": "@jupyter-widgets/controls",
          "model_module_version": "1.5.0",
          "model_name": "DescriptionStyleModel",
          "state": {
            "_model_module": "@jupyter-widgets/controls",
            "_model_module_version": "1.5.0",
            "_model_name": "DescriptionStyleModel",
            "_view_count": null,
            "_view_module": "@jupyter-widgets/base",
            "_view_module_version": "1.2.0",
            "_view_name": "StyleView",
            "description_width": ""
          }
        },
        "8ef6829cb6ee428db10eb0d2badf246d": {
          "model_module": "@jupyter-widgets/controls",
          "model_module_version": "1.5.0",
          "model_name": "HBoxModel",
          "state": {
            "_dom_classes": [],
            "_model_module": "@jupyter-widgets/controls",
            "_model_module_version": "1.5.0",
            "_model_name": "HBoxModel",
            "_view_count": null,
            "_view_module": "@jupyter-widgets/controls",
            "_view_module_version": "1.5.0",
            "_view_name": "HBoxView",
            "box_style": "",
            "children": [
              "IPY_MODEL_3d36ad94ee8f42608efb429c290c4272",
              "IPY_MODEL_9686b9c9c6d446f2a3302fbf7b3b0b36",
              "IPY_MODEL_41f116e238294f528267c57e47b5be46"
            ],
            "layout": "IPY_MODEL_b4f03871fe894feb938100932048bce8"
          }
        },
        "9146dd9bd15445cf8f1e6fb601701629": {
          "model_module": "@jupyter-widgets/controls",
          "model_module_version": "1.5.0",
          "model_name": "FloatProgressModel",
          "state": {
            "_dom_classes": [],
            "_model_module": "@jupyter-widgets/controls",
            "_model_module_version": "1.5.0",
            "_model_name": "FloatProgressModel",
            "_view_count": null,
            "_view_module": "@jupyter-widgets/controls",
            "_view_module_version": "1.5.0",
            "_view_name": "ProgressView",
            "bar_style": "success",
            "description": "",
            "description_tooltip": null,
            "layout": "IPY_MODEL_7a0801250d2a4ea0ab58f7709bae33d3",
            "max": 6431878936,
            "min": 0,
            "orientation": "horizontal",
            "style": "IPY_MODEL_d1d11bdae8da42f2be20b1103d1f5c22",
            "value": 6431878936
          }
        },
        "956d06a745ed48b5baec1f2d0173e16e": {
          "model_module": "@jupyter-widgets/base",
          "model_module_version": "1.2.0",
          "model_name": "LayoutModel",
          "state": {
            "_model_module": "@jupyter-widgets/base",
            "_model_module_version": "1.2.0",
            "_model_name": "LayoutModel",
            "_view_count": null,
            "_view_module": "@jupyter-widgets/base",
            "_view_module_version": "1.2.0",
            "_view_name": "LayoutView",
            "align_content": null,
            "align_items": null,
            "align_self": null,
            "border": null,
            "bottom": null,
            "display": null,
            "flex": null,
            "flex_flow": null,
            "grid_area": null,
            "grid_auto_columns": null,
            "grid_auto_flow": null,
            "grid_auto_rows": null,
            "grid_column": null,
            "grid_gap": null,
            "grid_row": null,
            "grid_template_areas": null,
            "grid_template_columns": null,
            "grid_template_rows": null,
            "height": null,
            "justify_content": null,
            "justify_items": null,
            "left": null,
            "margin": null,
            "max_height": null,
            "max_width": null,
            "min_height": null,
            "min_width": null,
            "object_fit": null,
            "object_position": null,
            "order": null,
            "overflow": null,
            "overflow_x": null,
            "overflow_y": null,
            "padding": null,
            "right": null,
            "top": null,
            "visibility": null,
            "width": null
          }
        },
        "9686b9c9c6d446f2a3302fbf7b3b0b36": {
          "model_module": "@jupyter-widgets/controls",
          "model_module_version": "1.5.0",
          "model_name": "FloatProgressModel",
          "state": {
            "_dom_classes": [],
            "_model_module": "@jupyter-widgets/controls",
            "_model_module_version": "1.5.0",
            "_model_name": "FloatProgressModel",
            "_view_count": null,
            "_view_module": "@jupyter-widgets/controls",
            "_view_module_version": "1.5.0",
            "_view_name": "ProgressView",
            "bar_style": "success",
            "description": "",
            "description_tooltip": null,
            "layout": "IPY_MODEL_0d350269951c4b99ae8da07446156657",
            "max": 689,
            "min": 0,
            "orientation": "horizontal",
            "style": "IPY_MODEL_bc305590940d417fa92e73f2df8662ac",
            "value": 689
          }
        },
        "96f5601de26f48478dc27ef48ed10897": {
          "model_module": "@jupyter-widgets/controls",
          "model_module_version": "1.5.0",
          "model_name": "ProgressStyleModel",
          "state": {
            "_model_module": "@jupyter-widgets/controls",
            "_model_module_version": "1.5.0",
            "_model_name": "ProgressStyleModel",
            "_view_count": null,
            "_view_module": "@jupyter-widgets/base",
            "_view_module_version": "1.2.0",
            "_view_name": "StyleView",
            "bar_color": null,
            "description_width": ""
          }
        },
        "9a205974ff5342feb1dcda14cb67b030": {
          "model_module": "@jupyter-widgets/controls",
          "model_module_version": "1.5.0",
          "model_name": "HTMLModel",
          "state": {
            "_dom_classes": [],
            "_model_module": "@jupyter-widgets/controls",
            "_model_module_version": "1.5.0",
            "_model_name": "HTMLModel",
            "_view_count": null,
            "_view_module": "@jupyter-widgets/controls",
            "_view_module_version": "1.5.0",
            "_view_name": "HTMLView",
            "description": "",
            "description_tooltip": null,
            "layout": "IPY_MODEL_ed88f1a665d94eb485a2407ebf1b297e",
            "placeholder": "​",
            "style": "IPY_MODEL_2c0ef963af74415cb5028d72fae8d803",
            "value": " 1.04M/1.04M [00:00&lt;00:00, 18.0MB/s]"
          }
        },
        "9e49c2d1a96443aeb0c4b8b05cac60df": {
          "model_module": "@jupyter-widgets/base",
          "model_module_version": "1.2.0",
          "model_name": "LayoutModel",
          "state": {
            "_model_module": "@jupyter-widgets/base",
            "_model_module_version": "1.2.0",
            "_model_name": "LayoutModel",
            "_view_count": null,
            "_view_module": "@jupyter-widgets/base",
            "_view_module_version": "1.2.0",
            "_view_name": "LayoutView",
            "align_content": null,
            "align_items": null,
            "align_self": null,
            "border": null,
            "bottom": null,
            "display": null,
            "flex": null,
            "flex_flow": null,
            "grid_area": null,
            "grid_auto_columns": null,
            "grid_auto_flow": null,
            "grid_auto_rows": null,
            "grid_column": null,
            "grid_gap": null,
            "grid_row": null,
            "grid_template_areas": null,
            "grid_template_columns": null,
            "grid_template_rows": null,
            "height": null,
            "justify_content": null,
            "justify_items": null,
            "left": null,
            "margin": null,
            "max_height": null,
            "max_width": null,
            "min_height": null,
            "min_width": null,
            "object_fit": null,
            "object_position": null,
            "order": null,
            "overflow": null,
            "overflow_x": null,
            "overflow_y": null,
            "padding": null,
            "right": null,
            "top": null,
            "visibility": null,
            "width": null
          }
        },
        "9f8a9c11dd02466d901d507ba3d4f10b": {
          "model_module": "@jupyter-widgets/base",
          "model_module_version": "1.2.0",
          "model_name": "LayoutModel",
          "state": {
            "_model_module": "@jupyter-widgets/base",
            "_model_module_version": "1.2.0",
            "_model_name": "LayoutModel",
            "_view_count": null,
            "_view_module": "@jupyter-widgets/base",
            "_view_module_version": "1.2.0",
            "_view_name": "LayoutView",
            "align_content": null,
            "align_items": null,
            "align_self": null,
            "border": null,
            "bottom": null,
            "display": null,
            "flex": null,
            "flex_flow": null,
            "grid_area": null,
            "grid_auto_columns": null,
            "grid_auto_flow": null,
            "grid_auto_rows": null,
            "grid_column": null,
            "grid_gap": null,
            "grid_row": null,
            "grid_template_areas": null,
            "grid_template_columns": null,
            "grid_template_rows": null,
            "height": null,
            "justify_content": null,
            "justify_items": null,
            "left": null,
            "margin": null,
            "max_height": null,
            "max_width": null,
            "min_height": null,
            "min_width": null,
            "object_fit": null,
            "object_position": null,
            "order": null,
            "overflow": null,
            "overflow_x": null,
            "overflow_y": null,
            "padding": null,
            "right": null,
            "top": null,
            "visibility": null,
            "width": null
          }
        },
        "a2a52db6b31f4c2daf3eca334156b193": {
          "model_module": "@jupyter-widgets/base",
          "model_module_version": "1.2.0",
          "model_name": "LayoutModel",
          "state": {
            "_model_module": "@jupyter-widgets/base",
            "_model_module_version": "1.2.0",
            "_model_name": "LayoutModel",
            "_view_count": null,
            "_view_module": "@jupyter-widgets/base",
            "_view_module_version": "1.2.0",
            "_view_name": "LayoutView",
            "align_content": null,
            "align_items": null,
            "align_self": null,
            "border": null,
            "bottom": null,
            "display": null,
            "flex": null,
            "flex_flow": null,
            "grid_area": null,
            "grid_auto_columns": null,
            "grid_auto_flow": null,
            "grid_auto_rows": null,
            "grid_column": null,
            "grid_gap": null,
            "grid_row": null,
            "grid_template_areas": null,
            "grid_template_columns": null,
            "grid_template_rows": null,
            "height": null,
            "justify_content": null,
            "justify_items": null,
            "left": null,
            "margin": null,
            "max_height": null,
            "max_width": null,
            "min_height": null,
            "min_width": null,
            "object_fit": null,
            "object_position": null,
            "order": null,
            "overflow": null,
            "overflow_x": null,
            "overflow_y": null,
            "padding": null,
            "right": null,
            "top": null,
            "visibility": null,
            "width": null
          }
        },
        "a611de90ab7142c8a7c8e14f3d96e115": {
          "model_module": "@jupyter-widgets/base",
          "model_module_version": "1.2.0",
          "model_name": "LayoutModel",
          "state": {
            "_model_module": "@jupyter-widgets/base",
            "_model_module_version": "1.2.0",
            "_model_name": "LayoutModel",
            "_view_count": null,
            "_view_module": "@jupyter-widgets/base",
            "_view_module_version": "1.2.0",
            "_view_name": "LayoutView",
            "align_content": null,
            "align_items": null,
            "align_self": null,
            "border": null,
            "bottom": null,
            "display": null,
            "flex": null,
            "flex_flow": null,
            "grid_area": null,
            "grid_auto_columns": null,
            "grid_auto_flow": null,
            "grid_auto_rows": null,
            "grid_column": null,
            "grid_gap": null,
            "grid_row": null,
            "grid_template_areas": null,
            "grid_template_columns": null,
            "grid_template_rows": null,
            "height": null,
            "justify_content": null,
            "justify_items": null,
            "left": null,
            "margin": null,
            "max_height": null,
            "max_width": null,
            "min_height": null,
            "min_width": null,
            "object_fit": null,
            "object_position": null,
            "order": null,
            "overflow": null,
            "overflow_x": null,
            "overflow_y": null,
            "padding": null,
            "right": null,
            "top": null,
            "visibility": null,
            "width": null
          }
        },
        "a8bbd9e22b804a8c8b7e75acca08ad74": {
          "model_module": "@jupyter-widgets/controls",
          "model_module_version": "1.5.0",
          "model_name": "DescriptionStyleModel",
          "state": {
            "_model_module": "@jupyter-widgets/controls",
            "_model_module_version": "1.5.0",
            "_model_name": "DescriptionStyleModel",
            "_view_count": null,
            "_view_module": "@jupyter-widgets/base",
            "_view_module_version": "1.2.0",
            "_view_name": "StyleView",
            "description_width": ""
          }
        },
        "b1cdd30e76664938bb6c6b4081f224ad": {
          "model_module": "@jupyter-widgets/controls",
          "model_module_version": "1.5.0",
          "model_name": "HTMLModel",
          "state": {
            "_dom_classes": [],
            "_model_module": "@jupyter-widgets/controls",
            "_model_module_version": "1.5.0",
            "_model_name": "HTMLModel",
            "_view_count": null,
            "_view_module": "@jupyter-widgets/controls",
            "_view_module_version": "1.5.0",
            "_view_name": "HTMLView",
            "description": "",
            "description_tooltip": null,
            "layout": "IPY_MODEL_01f88277413b4d4ba9d97f2095b11ce3",
            "placeholder": "​",
            "style": "IPY_MODEL_38340a15f7ef4e9f8bac4790edeb18f7",
            "value": "Downloading pytorch_model.bin: 100%"
          }
        },
        "b4f03871fe894feb938100932048bce8": {
          "model_module": "@jupyter-widgets/base",
          "model_module_version": "1.2.0",
          "model_name": "LayoutModel",
          "state": {
            "_model_module": "@jupyter-widgets/base",
            "_model_module_version": "1.2.0",
            "_model_name": "LayoutModel",
            "_view_count": null,
            "_view_module": "@jupyter-widgets/base",
            "_view_module_version": "1.2.0",
            "_view_name": "LayoutView",
            "align_content": null,
            "align_items": null,
            "align_self": null,
            "border": null,
            "bottom": null,
            "display": null,
            "flex": null,
            "flex_flow": null,
            "grid_area": null,
            "grid_auto_columns": null,
            "grid_auto_flow": null,
            "grid_auto_rows": null,
            "grid_column": null,
            "grid_gap": null,
            "grid_row": null,
            "grid_template_areas": null,
            "grid_template_columns": null,
            "grid_template_rows": null,
            "height": null,
            "justify_content": null,
            "justify_items": null,
            "left": null,
            "margin": null,
            "max_height": null,
            "max_width": null,
            "min_height": null,
            "min_width": null,
            "object_fit": null,
            "object_position": null,
            "order": null,
            "overflow": null,
            "overflow_x": null,
            "overflow_y": null,
            "padding": null,
            "right": null,
            "top": null,
            "visibility": null,
            "width": null
          }
        },
        "bb2c0b70154c4e3ead71023d5736f3cb": {
          "model_module": "@jupyter-widgets/base",
          "model_module_version": "1.2.0",
          "model_name": "LayoutModel",
          "state": {
            "_model_module": "@jupyter-widgets/base",
            "_model_module_version": "1.2.0",
            "_model_name": "LayoutModel",
            "_view_count": null,
            "_view_module": "@jupyter-widgets/base",
            "_view_module_version": "1.2.0",
            "_view_name": "LayoutView",
            "align_content": null,
            "align_items": null,
            "align_self": null,
            "border": null,
            "bottom": null,
            "display": null,
            "flex": null,
            "flex_flow": null,
            "grid_area": null,
            "grid_auto_columns": null,
            "grid_auto_flow": null,
            "grid_auto_rows": null,
            "grid_column": null,
            "grid_gap": null,
            "grid_row": null,
            "grid_template_areas": null,
            "grid_template_columns": null,
            "grid_template_rows": null,
            "height": null,
            "justify_content": null,
            "justify_items": null,
            "left": null,
            "margin": null,
            "max_height": null,
            "max_width": null,
            "min_height": null,
            "min_width": null,
            "object_fit": null,
            "object_position": null,
            "order": null,
            "overflow": null,
            "overflow_x": null,
            "overflow_y": null,
            "padding": null,
            "right": null,
            "top": null,
            "visibility": null,
            "width": null
          }
        },
        "bc305590940d417fa92e73f2df8662ac": {
          "model_module": "@jupyter-widgets/controls",
          "model_module_version": "1.5.0",
          "model_name": "ProgressStyleModel",
          "state": {
            "_model_module": "@jupyter-widgets/controls",
            "_model_module_version": "1.5.0",
            "_model_name": "ProgressStyleModel",
            "_view_count": null,
            "_view_module": "@jupyter-widgets/base",
            "_view_module_version": "1.2.0",
            "_view_name": "StyleView",
            "bar_color": null,
            "description_width": ""
          }
        },
        "c5f77f47a5474afea8c8df73950f8178": {
          "model_module": "@jupyter-widgets/controls",
          "model_module_version": "1.5.0",
          "model_name": "DescriptionStyleModel",
          "state": {
            "_model_module": "@jupyter-widgets/controls",
            "_model_module_version": "1.5.0",
            "_model_name": "DescriptionStyleModel",
            "_view_count": null,
            "_view_module": "@jupyter-widgets/base",
            "_view_module_version": "1.2.0",
            "_view_name": "StyleView",
            "description_width": ""
          }
        },
        "ca9b0af43f134e74b8b13cc71243c094": {
          "model_module": "@jupyter-widgets/controls",
          "model_module_version": "1.5.0",
          "model_name": "FloatProgressModel",
          "state": {
            "_dom_classes": [],
            "_model_module": "@jupyter-widgets/controls",
            "_model_module_version": "1.5.0",
            "_model_name": "FloatProgressModel",
            "_view_count": null,
            "_view_module": "@jupyter-widgets/controls",
            "_view_module_version": "1.5.0",
            "_view_name": "ProgressView",
            "bar_style": "success",
            "description": "",
            "description_tooltip": null,
            "layout": "IPY_MODEL_336a958de37147689d02561f480dd158",
            "max": 1042301,
            "min": 0,
            "orientation": "horizontal",
            "style": "IPY_MODEL_fefdf1f3750b4ca0b43df5c92f8748ee",
            "value": 1042301
          }
        },
        "cd9322cc3c15412caa898301334ece0f": {
          "model_module": "@jupyter-widgets/base",
          "model_module_version": "1.2.0",
          "model_name": "LayoutModel",
          "state": {
            "_model_module": "@jupyter-widgets/base",
            "_model_module_version": "1.2.0",
            "_model_name": "LayoutModel",
            "_view_count": null,
            "_view_module": "@jupyter-widgets/base",
            "_view_module_version": "1.2.0",
            "_view_name": "LayoutView",
            "align_content": null,
            "align_items": null,
            "align_self": null,
            "border": null,
            "bottom": null,
            "display": null,
            "flex": null,
            "flex_flow": null,
            "grid_area": null,
            "grid_auto_columns": null,
            "grid_auto_flow": null,
            "grid_auto_rows": null,
            "grid_column": null,
            "grid_gap": null,
            "grid_row": null,
            "grid_template_areas": null,
            "grid_template_columns": null,
            "grid_template_rows": null,
            "height": null,
            "justify_content": null,
            "justify_items": null,
            "left": null,
            "margin": null,
            "max_height": null,
            "max_width": null,
            "min_height": null,
            "min_width": null,
            "object_fit": null,
            "object_position": null,
            "order": null,
            "overflow": null,
            "overflow_x": null,
            "overflow_y": null,
            "padding": null,
            "right": null,
            "top": null,
            "visibility": null,
            "width": null
          }
        },
        "d1d11bdae8da42f2be20b1103d1f5c22": {
          "model_module": "@jupyter-widgets/controls",
          "model_module_version": "1.5.0",
          "model_name": "ProgressStyleModel",
          "state": {
            "_model_module": "@jupyter-widgets/controls",
            "_model_module_version": "1.5.0",
            "_model_name": "ProgressStyleModel",
            "_view_count": null,
            "_view_module": "@jupyter-widgets/base",
            "_view_module_version": "1.2.0",
            "_view_name": "StyleView",
            "bar_color": null,
            "description_width": ""
          }
        },
        "d47d8364c093431b8c9a6404303d02ff": {
          "model_module": "@jupyter-widgets/controls",
          "model_module_version": "1.5.0",
          "model_name": "HTMLModel",
          "state": {
            "_dom_classes": [],
            "_model_module": "@jupyter-widgets/controls",
            "_model_module_version": "1.5.0",
            "_model_name": "HTMLModel",
            "_view_count": null,
            "_view_module": "@jupyter-widgets/controls",
            "_view_module_version": "1.5.0",
            "_view_name": "HTMLView",
            "description": "",
            "description_tooltip": null,
            "layout": "IPY_MODEL_1f59ff836613455daadbc23902e6e93b",
            "placeholder": "​",
            "style": "IPY_MODEL_c5f77f47a5474afea8c8df73950f8178",
            "value": " 6.43G/6.43G [00:22&lt;00:00, 341MB/s]"
          }
        },
        "ea058c731697490a9ede32fcd66ec898": {
          "model_module": "@jupyter-widgets/controls",
          "model_module_version": "1.5.0",
          "model_name": "HTMLModel",
          "state": {
            "_dom_classes": [],
            "_model_module": "@jupyter-widgets/controls",
            "_model_module_version": "1.5.0",
            "_model_name": "HTMLModel",
            "_view_count": null,
            "_view_module": "@jupyter-widgets/controls",
            "_view_module_version": "1.5.0",
            "_view_name": "HTMLView",
            "description": "",
            "description_tooltip": null,
            "layout": "IPY_MODEL_a611de90ab7142c8a7c8e14f3d96e115",
            "placeholder": "​",
            "style": "IPY_MODEL_88e0e6dac4524dc89809536a7cc7449b",
            "value": " 124/124 [00:00&lt;00:00, 9.98kB/s]"
          }
        },
        "ed88f1a665d94eb485a2407ebf1b297e": {
          "model_module": "@jupyter-widgets/base",
          "model_module_version": "1.2.0",
          "model_name": "LayoutModel",
          "state": {
            "_model_module": "@jupyter-widgets/base",
            "_model_module_version": "1.2.0",
            "_model_name": "LayoutModel",
            "_view_count": null,
            "_view_module": "@jupyter-widgets/base",
            "_view_module_version": "1.2.0",
            "_view_name": "LayoutView",
            "align_content": null,
            "align_items": null,
            "align_self": null,
            "border": null,
            "bottom": null,
            "display": null,
            "flex": null,
            "flex_flow": null,
            "grid_area": null,
            "grid_auto_columns": null,
            "grid_auto_flow": null,
            "grid_auto_rows": null,
            "grid_column": null,
            "grid_gap": null,
            "grid_row": null,
            "grid_template_areas": null,
            "grid_template_columns": null,
            "grid_template_rows": null,
            "height": null,
            "justify_content": null,
            "justify_items": null,
            "left": null,
            "margin": null,
            "max_height": null,
            "max_width": null,
            "min_height": null,
            "min_width": null,
            "object_fit": null,
            "object_position": null,
            "order": null,
            "overflow": null,
            "overflow_x": null,
            "overflow_y": null,
            "padding": null,
            "right": null,
            "top": null,
            "visibility": null,
            "width": null
          }
        },
        "fefdf1f3750b4ca0b43df5c92f8748ee": {
          "model_module": "@jupyter-widgets/controls",
          "model_module_version": "1.5.0",
          "model_name": "ProgressStyleModel",
          "state": {
            "_model_module": "@jupyter-widgets/controls",
            "_model_module_version": "1.5.0",
            "_model_name": "ProgressStyleModel",
            "_view_count": null,
            "_view_module": "@jupyter-widgets/base",
            "_view_module_version": "1.2.0",
            "_view_name": "StyleView",
            "bar_color": null,
            "description_width": ""
          }
        }
      }
    }
  },
  "nbformat": 4,
  "nbformat_minor": 0
}
